{
  "cells": [
    {
      "cell_type": "markdown",
      "metadata": {
        "id": "view-in-github",
        "colab_type": "text"
      },
      "source": [
        "<a href=\"https://colab.research.google.com/github/TheCaveOfAdullam/study3/blob/main/apple.ipynb\" target=\"_parent\"><img src=\"https://colab.research.google.com/assets/colab-badge.svg\" alt=\"Open In Colab\"/></a>"
      ]
    },
    {
      "cell_type": "code",
      "execution_count": 1,
      "metadata": {
        "colab": {
          "base_uri": "https://localhost:8080/"
        },
        "id": "crRZ8rHYEZKf",
        "outputId": "6c2163fd-639a-4309-b4c6-636624723282"
      },
      "outputs": [
        {
          "output_type": "stream",
          "name": "stdout",
          "text": [
            "Mounted at /content/drive\n"
          ]
        }
      ],
      "source": [
        "from google.colab import drive\n",
        "drive.mount('/content/drive')"
      ]
    },
    {
      "cell_type": "code",
      "execution_count": 2,
      "metadata": {
        "id": "DHiRDJ2Rqf1Y"
      },
      "outputs": [],
      "source": [
        "import pandas as pd\n",
        "import numpy as np\n",
        "import os\n",
        "import time  # time 모듈 import\n",
        "import psutil  # psutil 라이브러리 import\n",
        "from sklearn.preprocessing import LabelEncoder\n",
        "from sklearn.metrics import confusion_matrix, classification_report\n",
        "from keras.models import Sequential\n",
        "from keras.layers import Conv1D, MaxPooling1D, Flatten, Dense, Dropout\n",
        "from keras.utils import to_categorical\n",
        "import keras.backend as K"
      ]
    },
    {
      "cell_type": "code",
      "execution_count": 3,
      "metadata": {
        "id": "dY7RLp4SqrPI"
      },
      "outputs": [],
      "source": [
        "# 기본 경로 설정\n",
        "base_dir = '/content/drive/MyDrive/ship_data'\n",
        "categories = ['normal', 'fault_BB', 'fault_RI', 'fault_SM']\n",
        "\n",
        "# 데이터 로드 및 전처리 함수 정의\n",
        "def load_data(base_dir, split):\n",
        "    X = []\n",
        "    y = []\n",
        "    split_dir = os.path.join(base_dir, split)\n",
        "    for category in categories:\n",
        "        category_dir = os.path.join(split_dir, category)\n",
        "        for file in os.listdir(category_dir):\n",
        "            file_path = os.path.join(category_dir, file)\n",
        "            data = pd.read_csv(file_path, header=None).values\n",
        "            data = pd.to_numeric(data.flatten(), errors='coerce').reshape(-1, data.shape[1])\n",
        "            data = np.nan_to_num(data).astype('float32')  # NaN 값을 0으로 대체하고, float32로 변환\n",
        "            X.append(data)\n",
        "            y.append(category)\n",
        "    return np.array(X), np.array(y)"
      ]
    },
    {
      "cell_type": "code",
      "execution_count": 4,
      "metadata": {
        "id": "iGLLC_WXqrbD"
      },
      "outputs": [],
      "source": [
        "# 데이터 로드\n",
        "X_train, y_train = load_data(base_dir, 'train')\n",
        "X_val, y_val = load_data(base_dir, 'validation')\n",
        "X_test, y_test = load_data(base_dir, 'test')"
      ]
    },
    {
      "cell_type": "code",
      "execution_count": 5,
      "metadata": {
        "id": "LrFrOvZsqqDC"
      },
      "outputs": [],
      "source": [
        "# 데이터 차원 변경 (CNN 입력 형식에 맞게)\n",
        "X_train = np.expand_dims(X_train, axis=-1)\n",
        "X_val = np.expand_dims(X_val, axis=-1)\n",
        "X_test = np.expand_dims(X_test, axis=-1)\n",
        "\n",
        "# 레이블 인코딩\n",
        "label_encoder = LabelEncoder()\n",
        "y_train_encoded = label_encoder.fit_transform(y_train)\n",
        "y_val_encoded = label_encoder.transform(y_val)\n",
        "y_test_encoded = label_encoder.transform(y_test)\n",
        "\n",
        "# 원-핫 인코딩\n",
        "y_train_categorical = to_categorical(y_train_encoded)\n",
        "y_val_categorical = to_categorical(y_val_encoded)\n",
        "y_test_categorical = to_categorical(y_test_encoded)"
      ]
    },
    {
      "cell_type": "code",
      "source": [
        "# 기본 CNN 모델 정의\n",
        "def create_model():\n",
        "    model = Sequential()\n",
        "    model.add(Conv1D(filters=64, kernel_size=3, activation='relu', input_shape=(X_train.shape[1], X_train.shape[2])))\n",
        "    model.add(MaxPooling1D(pool_size=2))\n",
        "    model.add(Conv1D(filters=128, kernel_size=3, activation='relu'))\n",
        "    model.add(MaxPooling1D(pool_size=2))\n",
        "    model.add(Flatten())\n",
        "    model.add(Dense(100, activation='relu'))\n",
        "    model.add(Dropout(0.5))\n",
        "    model.add(Dense(len(categories), activation='softmax'))\n",
        "    return model\n",
        "\n",
        "model = create_model()\n",
        "\n",
        "# 모델 컴파일\n",
        "model.compile(optimizer='adam', loss='categorical_crossentropy', metrics=['accuracy'])"
      ],
      "metadata": {
        "id": "QSaH_9qKhIo8"
      },
      "execution_count": 6,
      "outputs": []
    },
    {
      "cell_type": "code",
      "source": [
        "# 모델 학습\n",
        "history = model.fit(X_train, y_train_categorical, epochs=10, batch_size=32, validation_data=(X_val, y_val_categorical))"
      ],
      "metadata": {
        "colab": {
          "base_uri": "https://localhost:8080/"
        },
        "id": "eROsyFg-hPx7",
        "outputId": "77c0e2f4-fe89-4019-ab8a-0e972df80232"
      },
      "execution_count": 7,
      "outputs": [
        {
          "output_type": "stream",
          "name": "stdout",
          "text": [
            "Epoch 1/10\n",
            "219/219 [==============================] - 569s 3s/step - loss: 1.5420 - accuracy: 0.4879 - val_loss: 1.2057 - val_accuracy: 0.5869\n",
            "Epoch 2/10\n",
            "219/219 [==============================] - 563s 3s/step - loss: 0.9368 - accuracy: 0.5904 - val_loss: 0.5027 - val_accuracy: 0.8005\n",
            "Epoch 3/10\n",
            "219/219 [==============================] - 576s 3s/step - loss: 0.4862 - accuracy: 0.7890 - val_loss: 0.2733 - val_accuracy: 0.8787\n",
            "Epoch 4/10\n",
            "219/219 [==============================] - 587s 3s/step - loss: 0.3891 - accuracy: 0.8377 - val_loss: 0.1520 - val_accuracy: 0.9750\n",
            "Epoch 5/10\n",
            "219/219 [==============================] - 593s 3s/step - loss: 0.3529 - accuracy: 0.8634 - val_loss: 0.2119 - val_accuracy: 0.9460\n",
            "Epoch 6/10\n",
            "219/219 [==============================] - 589s 3s/step - loss: 0.3409 - accuracy: 0.8548 - val_loss: 0.1092 - val_accuracy: 0.9875\n",
            "Epoch 7/10\n",
            "219/219 [==============================] - 583s 3s/step - loss: 0.3142 - accuracy: 0.8619 - val_loss: 0.0821 - val_accuracy: 0.9922\n",
            "Epoch 8/10\n",
            "219/219 [==============================] - 579s 3s/step - loss: 0.3001 - accuracy: 0.8711 - val_loss: 0.0625 - val_accuracy: 0.9984\n",
            "Epoch 9/10\n",
            "219/219 [==============================] - 587s 3s/step - loss: 0.2229 - accuracy: 0.9041 - val_loss: 0.0349 - val_accuracy: 0.9977\n",
            "Epoch 10/10\n",
            "219/219 [==============================] - 575s 3s/step - loss: 0.2087 - accuracy: 0.9078 - val_loss: 0.0351 - val_accuracy: 1.0000\n"
          ]
        }
      ]
    },
    {
      "cell_type": "code",
      "execution_count": 8,
      "metadata": {
        "colab": {
          "base_uri": "https://localhost:8080/"
        },
        "id": "UIXo92qAquso",
        "outputId": "7489929e-262f-4d68-b7c4-895bb3e3f47f"
      },
      "outputs": [
        {
          "output_type": "stream",
          "name": "stderr",
          "text": [
            "/usr/local/lib/python3.10/dist-packages/keras/src/engine/training.py:3103: UserWarning: You are saving your model as an HDF5 file via `model.save()`. This file format is considered legacy. We recommend using instead the native Keras format, e.g. `model.save('my_model.keras')`.\n",
            "  saving_api.save_model(\n"
          ]
        },
        {
          "output_type": "stream",
          "name": "stdout",
          "text": [
            "Model Size: 439.50 MB\n"
          ]
        }
      ],
      "source": [
        "# 모델 사이즈 확인\n",
        "model.save('model.h5')\n",
        "model_size = os.path.getsize('model.h5') / (1024 * 1024)  # 모델 사이즈를 MB 단위로 변환\n",
        "print(f\"Model Size: {model_size:.2f} MB\")"
      ]
    },
    {
      "cell_type": "code",
      "execution_count": 9,
      "metadata": {
        "colab": {
          "base_uri": "https://localhost:8080/"
        },
        "id": "xi7sYKDBqqGD",
        "outputId": "977034bd-1345-4a16-b50f-1281739c82e3"
      },
      "outputs": [
        {
          "output_type": "stream",
          "name": "stdout",
          "text": [
            "Memory Usage: 3433.35 MB\n"
          ]
        }
      ],
      "source": [
        "# 메모리 사용량 확인\n",
        "process = psutil.Process(os.getpid())\n",
        "memory_usage = process.memory_info().rss / (1024 * 1024)  # 메모리 사용량을 MB 단위로 변환\n",
        "print(f\"Memory Usage: {memory_usage:.2f} MB\")"
      ]
    },
    {
      "cell_type": "code",
      "execution_count": 10,
      "metadata": {
        "colab": {
          "base_uri": "https://localhost:8080/"
        },
        "id": "LatVRbhvqq3T",
        "outputId": "e13e5ce2-7c65-4657-edae-3fcf45900672"
      },
      "outputs": [
        {
          "output_type": "stream",
          "name": "stdout",
          "text": [
            "40/40 [==============================] - 22s 544ms/step\n",
            "Inference Time: 41.58 seconds\n"
          ]
        }
      ],
      "source": [
        "# 추론 시간 측정\n",
        "start_time = time.time()\n",
        "y_pred_categorical = model.predict(X_test)\n",
        "end_time = time.time()\n",
        "inference_time = end_time - start_time\n",
        "print(f\"Inference Time: {inference_time:.2f} seconds\")\n",
        "\n",
        "y_pred = np.argmax(y_pred_categorical, axis=1)"
      ]
    },
    {
      "cell_type": "code",
      "execution_count": 11,
      "metadata": {
        "colab": {
          "base_uri": "https://localhost:8080/"
        },
        "id": "hDa8W7z9rcqS",
        "outputId": "8d654abe-10a9-4d10-8482-760ef33df9dd"
      },
      "outputs": [
        {
          "output_type": "stream",
          "name": "stdout",
          "text": [
            "40/40 [==============================] - 21s 526ms/step - loss: 0.0351 - accuracy: 1.0000\n",
            "Validation Loss: 0.035099294036626816\n",
            "Validation Accuracy: 1.0\n"
          ]
        }
      ],
      "source": [
        "# 검증 데이터 평가\n",
        "val_loss, val_accuracy = model.evaluate(X_val, y_val_categorical)\n",
        "print(f\"Validation Loss: {val_loss}\")\n",
        "print(f\"Validation Accuracy: {val_accuracy}\")"
      ]
    },
    {
      "cell_type": "code",
      "execution_count": 12,
      "metadata": {
        "id": "ihjV9vKNrbwH",
        "colab": {
          "base_uri": "https://localhost:8080/"
        },
        "outputId": "d9305287-a809-4e90-d3ce-297e4edbb1f8"
      },
      "outputs": [
        {
          "output_type": "stream",
          "name": "stdout",
          "text": [
            "40/40 [==============================] - 24s 591ms/step - loss: 0.0447 - accuracy: 0.9945\n",
            "Test Loss: 0.044666118919849396\n",
            "Test Accuracy: 0.9945226907730103\n"
          ]
        }
      ],
      "source": [
        "# 테스트 데이터 평가\n",
        "test_loss, test_accuracy = model.evaluate(X_test, y_test_categorical)\n",
        "print(f\"Test Loss: {test_loss}\")\n",
        "print(f\"Test Accuracy: {test_accuracy}\")"
      ]
    },
    {
      "cell_type": "code",
      "execution_count": 13,
      "metadata": {
        "colab": {
          "base_uri": "https://localhost:8080/"
        },
        "id": "HgMK-WjgrdRk",
        "outputId": "58099ad9-e22c-4de9-d70e-ef6f227b6575"
      },
      "outputs": [
        {
          "output_type": "stream",
          "name": "stdout",
          "text": [
            "40/40 [==============================] - 21s 526ms/step\n",
            "Confusion Matrix (Validation):\n",
            "[[176   0   0   0]\n",
            " [  0 176   0   0]\n",
            " [  0   0 176   0]\n",
            " [  0   0   0 750]]\n",
            "\n",
            "Classification Report (Validation):\n",
            "              precision    recall  f1-score   support\n",
            "\n",
            "      normal       1.00      1.00      1.00       176\n",
            "    fault_BB       1.00      1.00      1.00       176\n",
            "    fault_RI       1.00      1.00      1.00       176\n",
            "    fault_SM       1.00      1.00      1.00       750\n",
            "\n",
            "    accuracy                           1.00      1278\n",
            "   macro avg       1.00      1.00      1.00      1278\n",
            "weighted avg       1.00      1.00      1.00      1278\n",
            "\n"
          ]
        }
      ],
      "source": [
        "# 혼동 행렬 및 성능 지표 출력 (검증 데이터)\n",
        "y_pred_val = model.predict(X_val)\n",
        "y_pred_val_classes = np.argmax(y_pred_val, axis=1)\n",
        "\n",
        "conf_matrix_val = confusion_matrix(y_val_encoded, y_pred_val_classes)\n",
        "class_report_val = classification_report(y_val_encoded, y_pred_val_classes, target_names=categories)\n",
        "\n",
        "print(\"Confusion Matrix (Validation):\")\n",
        "print(conf_matrix_val)\n",
        "print(\"\\nClassification Report (Validation):\")\n",
        "print(class_report_val)"
      ]
    },
    {
      "cell_type": "code",
      "execution_count": 14,
      "metadata": {
        "colab": {
          "base_uri": "https://localhost:8080/"
        },
        "id": "PsKRMNmVrd25",
        "outputId": "7628c6da-8d6e-4405-c718-23a2a63308f6"
      },
      "outputs": [
        {
          "output_type": "stream",
          "name": "stdout",
          "text": [
            "Confusion Matrix (Test):\n",
            "[[176   0   0   0]\n",
            " [  0 176   0   0]\n",
            " [  3   0 169   4]\n",
            " [  0   0   0 750]]\n",
            "\n",
            "Classification Report (Test):\n",
            "              precision    recall  f1-score   support\n",
            "\n",
            "      normal       0.98      1.00      0.99       176\n",
            "    fault_BB       1.00      1.00      1.00       176\n",
            "    fault_RI       1.00      0.96      0.98       176\n",
            "    fault_SM       0.99      1.00      1.00       750\n",
            "\n",
            "    accuracy                           0.99      1278\n",
            "   macro avg       0.99      0.99      0.99      1278\n",
            "weighted avg       0.99      0.99      0.99      1278\n",
            "\n"
          ]
        }
      ],
      "source": [
        "# 혼동 행렬 및 성능 지표 출력 (테스트 데이터)\n",
        "conf_matrix_test = confusion_matrix(y_test_encoded, y_pred)\n",
        "class_report_test = classification_report(y_test_encoded, y_pred, target_names=categories)\n",
        "\n",
        "print(\"Confusion Matrix (Test):\")\n",
        "print(conf_matrix_test)\n",
        "print(\"\\nClassification Report (Test):\")\n",
        "print(class_report_test)"
      ]
    },
    {
      "cell_type": "code",
      "execution_count": 15,
      "metadata": {
        "id": "FHjmBAvQrefD"
      },
      "outputs": [],
      "source": [
        "# # 새로운 CSV 파일 분류\n",
        "# def classify_new_file(file_path, model):\n",
        "#     data = pd.read_csv(file_path, header=None).values\n",
        "#     data = np.nan_to_num(data).astype('float32')  # NaN 값을 0으로 대체하고, float32로 변환\n",
        "#     data = np.expand_dims(data, axis=(0, -1))\n",
        "#     prediction = model.predict(data)\n",
        "#     predicted_class = np.argmax(prediction, axis=1)\n",
        "#     return label_encoder.inverse_transform(predicted_class)\n",
        "\n",
        "# # 예시: 새로운 파일 분류\n",
        "# new_file_path = 'path_to_new_csv_file.csv'\n",
        "# predicted_category = classify_new_file(new_file_path, model)\n",
        "# print(f'The predicted category for the new file is: {predicted_category[0]}')"
      ]
    }
  ],
  "metadata": {
    "colab": {
      "provenance": [],
      "authorship_tag": "ABX9TyMEbx6mC6TPUOYUmCsD9SRz",
      "include_colab_link": true
    },
    "kernelspec": {
      "display_name": "Python 3",
      "name": "python3"
    },
    "language_info": {
      "name": "python"
    }
  },
  "nbformat": 4,
  "nbformat_minor": 0
}