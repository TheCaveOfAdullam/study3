{
 "cells": [
  {
   "cell_type": "code",
   "execution_count": 33,
   "id": "09af15b5-4eab-45f2-bbcf-e51ab536e769",
   "metadata": {},
   "outputs": [
    {
     "name": "stdout",
     "output_type": "stream",
     "text": [
      "  Motor Spec  L-DEF-01  Column 2  Column 3\n",
      "0          0  3.163086 -1.881836 -1.801758\n",
      "1     0.0005  3.323242 -2.442383 -1.361328\n",
      "2      0.001  3.203125 -2.802734 -0.960938\n",
      "3     0.0015  2.722656 -2.882812 -0.360352\n",
      "4      0.002  2.202148 -3.083008  0.360352\n"
     ]
    }
   ],
   "source": [
    "# import pandas as pd\n",
    "# from io import StringIO\n",
    "\n",
    "# # 파일을 불러옵니다.\n",
    "# file_path = 'test/STFCB-20201012-0105-0138_20201113_074707_002.csv'\n",
    "\n",
    "# # 파일을 라인별로 읽고, 유효한 데이터 라인만 필터링합니다.\n",
    "# with open(file_path, 'r', encoding='utf-8') as file:\n",
    "#     lines = file.readlines()\n",
    "\n",
    "# # 데이터로 판단되는 라인만 필터링합니다.\n",
    "# filtered_lines = []\n",
    "# for line in lines:\n",
    "#     if len(line.split(',')) > 2:  # 데이터 라인은 일반적으로 2개 이상의 필드를 가집니다.\n",
    "#         filtered_lines.append(line)\n",
    "\n",
    "# # 필터링된 라인을 데이터프레임으로 변환합니다.\n",
    "# cleaned_data = \"\\n\".join(filtered_lines)\n",
    "# df_cleaned = pd.read_csv(StringIO(cleaned_data))\n",
    "\n",
    "# # NaN 값을 포함한 열을 제거합니다.\n",
    "# df_cleaned.dropna(axis=1, how='all', inplace=True)\n",
    "\n",
    "# # 컬럼 이름을 적절히 수정합니다 (원하는 이름으로 변경할 수 있습니다).\n",
    "# df_cleaned.columns = ['Motor Spec', 'L-DEF-01', 'Column 2', 'Column 3']\n",
    "\n",
    "# # 0번과 1번 행을 삭제합니다.\n",
    "# df_cleaned = df_cleaned.drop([0, 1])\n",
    "\n",
    "# # 데이터프레임의 인덱스를 리셋합니다.\n",
    "# df_cleaned.reset_index(drop=True, inplace=True)\n",
    "\n",
    "# # 데이터프레임의 상위 몇 줄을 출력합니다.\n",
    "# print(df_cleaned.head())\n",
    "\n",
    "# # 정리된 데이터를 CSV 파일로 저장합니다.\n",
    "# df_cleaned.to_csv('cleaned_data.csv', index=False)"
   ]
  },
  {
   "cell_type": "code",
   "execution_count": 34,
   "id": "6dc748de-93ea-498e-bac7-82fadab2d74b",
   "metadata": {},
   "outputs": [
    {
     "name": "stdout",
     "output_type": "stream",
     "text": [
      "Processed and saved: OUT\\cleaned_STFCB-20201012-0105-0138_20201113_074205_002.csv\n",
      "Processed and saved: OUT\\cleaned_STFCB-20201012-0105-0138_20201113_074206_002.csv\n",
      "Processed and saved: OUT\\cleaned_STFCB-20201012-0105-0138_20201113_074207_002.csv\n",
      "Processed and saved: OUT\\cleaned_STFCB-20201012-0105-0138_20201113_074305_002.csv\n",
      "Processed and saved: OUT\\cleaned_STFCB-20201012-0105-0138_20201113_074306_002.csv\n",
      "Processed and saved: OUT\\cleaned_STFCB-20201012-0105-0138_20201113_074307_002.csv\n",
      "Processed and saved: OUT\\cleaned_STFCB-20201012-0105-0138_20201113_074405_002.csv\n",
      "Processed and saved: OUT\\cleaned_STFCB-20201012-0105-0138_20201113_074406_002.csv\n",
      "Processed and saved: OUT\\cleaned_STFCB-20201012-0105-0138_20201113_074407_002.csv\n",
      "Processed and saved: OUT\\cleaned_STFCB-20201012-0105-0138_20201113_074505_002.csv\n",
      "Processed and saved: OUT\\cleaned_STFCB-20201012-0105-0138_20201113_074506_002.csv\n",
      "Processed and saved: OUT\\cleaned_STFCB-20201012-0105-0138_20201113_074507_002.csv\n",
      "Processed and saved: OUT\\cleaned_STFCB-20201012-0105-0138_20201113_074705_002.csv\n",
      "Processed and saved: OUT\\cleaned_STFCB-20201012-0105-0138_20201113_074706_002.csv\n",
      "Processed and saved: OUT\\cleaned_STFCB-20201012-0105-0138_20201113_074707_002.csv\n",
      "Processed and saved: OUT\\cleaned_STFCB-20201012-0105-0138_20201113_074805_002.csv\n"
     ]
    }
   ],
   "source": [
    "import os\n",
    "import pandas as pd\n",
    "from io import StringIO\n",
    "\n",
    "# 폴더 경로를 지정합니다.\n",
    "folder_path = 'test'  # 폴더 경로를 적절히 수정하세요.\n",
    "output_folder = 'OUT'  # 정리된 데이터를 저장할 폴더\n",
    "\n",
    "# 출력 폴더가 없으면 생성합니다.\n",
    "if not os.path.exists(output_folder):\n",
    "    os.makedirs(output_folder)\n",
    "\n",
    "# 폴더 내의 모든 파일에 대해 작업을 수행합니다.\n",
    "for filename in os.listdir(folder_path):\n",
    "    if filename.endswith('.csv'):\n",
    "        file_path = os.path.join(folder_path, filename)\n",
    "        \n",
    "        # 파일을 라인별로 읽고, 유효한 데이터 라인만 필터링합니다.\n",
    "        with open(file_path, 'r', encoding='utf-8') as file:\n",
    "            lines = file.readlines()\n",
    "        \n",
    "        # 데이터로 판단되는 라인만 필터링합니다.\n",
    "        filtered_lines = []\n",
    "        for line in lines:\n",
    "            if len(line.split(',')) > 2:  # 데이터 라인은 일반적으로 2개 이상의 필드를 가집니다.\n",
    "                filtered_lines.append(line)\n",
    "        \n",
    "        # 필터링된 라인을 데이터프레임으로 변환합니다.\n",
    "        cleaned_data = \"\\n\".join(filtered_lines)\n",
    "        df_cleaned = pd.read_csv(StringIO(cleaned_data))\n",
    "        \n",
    "        # NaN 값을 포함한 열을 제거합니다.\n",
    "        df_cleaned.dropna(axis=1, how='all', inplace=True)\n",
    "        \n",
    "        # 컬럼 이름을 적절히 수정합니다 (원하는 이름으로 변경할 수 있습니다).\n",
    "        df_cleaned.columns = ['time', 'x', 'y', 'z']\n",
    "        \n",
    "        # 0번과 1번 행을 삭제합니다.\n",
    "        df_cleaned = df_cleaned.drop([0, 1])\n",
    "        \n",
    "        # 데이터프레임의 인덱스를 리셋합니다.\n",
    "        df_cleaned.reset_index(drop=True, inplace=True)\n",
    "        \n",
    "        # 정리된 데이터를 CSV 파일로 저장합니다.\n",
    "        cleaned_file_path = os.path.join(output_folder, f'cleaned_{filename}')\n",
    "        df_cleaned.to_csv(cleaned_file_path, index=False)\n",
    "\n",
    "# 최종 메시지 출력\n",
    "print(\"성공적으로 저장되었습니다.\")"
   ]
  },
  {
   "cell_type": "code",
   "execution_count": null,
   "id": "a4f5b90d-e377-4399-af8d-1a339da47ac9",
   "metadata": {},
   "outputs": [],
   "source": []
  }
 ],
 "metadata": {
  "kernelspec": {
   "display_name": "Python 3 (ipykernel)",
   "language": "python",
   "name": "python3"
  },
  "language_info": {
   "codemirror_mode": {
    "name": "ipython",
    "version": 3
   },
   "file_extension": ".py",
   "mimetype": "text/x-python",
   "name": "python",
   "nbconvert_exporter": "python",
   "pygments_lexer": "ipython3",
   "version": "3.11.7"
  }
 },
 "nbformat": 4,
 "nbformat_minor": 5
}
