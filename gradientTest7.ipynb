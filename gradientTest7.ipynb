{
  "nbformat": 4,
  "nbformat_minor": 0,
  "metadata": {
    "colab": {
      "provenance": [],
      "machine_shape": "hm",
      "gpuType": "V28",
      "authorship_tag": "ABX9TyM7LLHUPEUGbyS5e0WrXdMR",
      "include_colab_link": true
    },
    "kernelspec": {
      "name": "python3",
      "display_name": "Python 3"
    },
    "language_info": {
      "name": "python"
    },
    "accelerator": "TPU"
  },
  "cells": [
    {
      "cell_type": "markdown",
      "metadata": {
        "id": "view-in-github",
        "colab_type": "text"
      },
      "source": [
        "<a href=\"https://colab.research.google.com/github/TheCaveOfAdullam/study3/blob/main/gradientTest7.ipynb\" target=\"_parent\"><img src=\"https://colab.research.google.com/assets/colab-badge.svg\" alt=\"Open In Colab\"/></a>"
      ]
    },
    {
      "cell_type": "code",
      "execution_count": 1,
      "metadata": {
        "colab": {
          "base_uri": "https://localhost:8080/"
        },
        "id": "IpJM8mSP74Gn",
        "outputId": "01fec183-9c01-435f-9da4-989fc38aef14"
      },
      "outputs": [
        {
          "output_type": "stream",
          "name": "stdout",
          "text": [
            "Mounted at /content/drive\n"
          ]
        }
      ],
      "source": [
        "# Google Drive 연결 및 필요한 라이브러리 불러오기\n",
        "from google.colab import drive\n",
        "drive.mount('/content/drive')"
      ]
    },
    {
      "cell_type": "code",
      "source": [
        "!pip install tensorflow_model_optimization"
      ],
      "metadata": {
        "colab": {
          "base_uri": "https://localhost:8080/"
        },
        "id": "UgXNXhWFHVG4",
        "outputId": "2c35deca-76f6-4847-c58b-c102df3bb7e8"
      },
      "execution_count": 4,
      "outputs": [
        {
          "output_type": "stream",
          "name": "stdout",
          "text": [
            "Requirement already satisfied: tensorflow_model_optimization in /usr/local/lib/python3.10/dist-packages (0.8.0)\n",
            "Requirement already satisfied: absl-py~=1.2 in /usr/local/lib/python3.10/dist-packages (from tensorflow_model_optimization) (1.4.0)\n",
            "Requirement already satisfied: dm-tree~=0.1.1 in /usr/local/lib/python3.10/dist-packages (from tensorflow_model_optimization) (0.1.8)\n",
            "Requirement already satisfied: numpy~=1.23 in /usr/local/lib/python3.10/dist-packages (from tensorflow_model_optimization) (1.26.4)\n",
            "Requirement already satisfied: six~=1.14 in /usr/local/lib/python3.10/dist-packages (from tensorflow_model_optimization) (1.16.0)\n"
          ]
        }
      ]
    },
    {
      "cell_type": "code",
      "source": [
        "import os\n",
        "import numpy as np\n",
        "import pandas as pd\n",
        "import tensorflow as tf\n",
        "from tensorflow.keras import layers, models\n",
        "from sklearn.preprocessing import LabelEncoder\n",
        "import tensorflow_model_optimization as tfmot"
      ],
      "metadata": {
        "id": "fBCkuypr79E_"
      },
      "execution_count": 5,
      "outputs": []
    },
    {
      "cell_type": "code",
      "source": [
        "# 기본 경로 설정\n",
        "base_dir = '/content/drive/MyDrive/ship_motor10'\n",
        "categories = ['normal', 'fault_BB', 'fault_RI', 'fault_SM']\n",
        "\n",
        "# 데이터 로드 및 전처리 함수 정의\n",
        "def load_data(base_dir, split):\n",
        "    X = []\n",
        "    y = []\n",
        "    split_dir = os.path.join(base_dir, split)\n",
        "    for category in categories:\n",
        "        category_dir = os.path.join(split_dir, category)\n",
        "        for file in os.listdir(category_dir):\n",
        "            file_path = os.path.join(category_dir, file)\n",
        "            data = pd.read_csv(file_path, header=None).values\n",
        "            data = pd.to_numeric(data.flatten(), errors='coerce').reshape(-1, data.shape[1])\n",
        "            data = np.nan_to_num(data).astype('float32')  # NaN 값을 0으로 대체하고, float32로 변환\n",
        "            X.append(data)\n",
        "            y.append(category)\n",
        "    return np.array(X), np.array(y)\n",
        "\n",
        "# 데이터 로드\n",
        "X_train, y_train = load_data(base_dir, 'train')\n",
        "X_val, y_val = load_data(base_dir, 'validation')\n",
        "X_test, y_test = load_data(base_dir, 'test')\n",
        "\n",
        "# 데이터 차원 변경 (CNN 입력 형식에 맞게)\n",
        "X_train = np.expand_dims(X_train, axis=-1)\n",
        "X_val = np.expand_dims(X_val, axis=-1)\n",
        "X_test = np.expand_dims(X_test, axis=-1)\n",
        "\n",
        "# 레이블 인코딩\n",
        "label_encoder = LabelEncoder()\n",
        "y_train_encoded = label_encoder.fit_transform(y_train)\n",
        "y_val_encoded = label_encoder.transform(y_val)\n",
        "y_test_encoded = label_encoder.transform(y_test)\n",
        "\n",
        "# 원-핫 인코딩\n",
        "y_train_categorical = tf.keras.utils.to_categorical(y_train_encoded)\n",
        "y_val_categorical = tf.keras.utils.to_categorical(y_val_encoded)\n",
        "y_test_categorical = tf.keras.utils.to_categorical(y_test_encoded)"
      ],
      "metadata": {
        "id": "mENlWID479Hn"
      },
      "execution_count": 7,
      "outputs": []
    },
    {
      "cell_type": "code",
      "source": [
        "# 모델 정의\n",
        "model = models.Sequential()\n",
        "model.add(layers.Conv1D(filters=64, kernel_size=16, strides=16, activation='relu', input_shape=(X_train.shape[1], X_train.shape[2])))\n",
        "model.add(layers.MaxPooling1D(pool_size=2, strides=2))\n",
        "model.add(layers.Conv1D(filters=32, kernel_size=3, strides=1, activation='relu'))\n",
        "model.add(layers.Conv1D(filters=64, kernel_size=5, strides=1, activation='relu'))\n",
        "model.add(layers.Conv1D(filters=128, kernel_size=5, strides=1, activation='relu'))\n",
        "model.add(layers.MaxPooling1D(pool_size=2, strides=2))\n",
        "model.add(layers.Flatten())\n",
        "model.add(layers.Dense(units=5000, activation='relu'))\n",
        "model.add(layers.Dense(units=1000, activation='relu'))\n",
        "model.add(layers.Dense(len(categories), activation='softmax'))\n",
        "\n",
        "# 모델 컴파일\n",
        "optimizer = tf.keras.optimizers.Adam(learning_rate=0.0001, clipnorm=1.0)\n",
        "model.compile(optimizer=optimizer, loss='categorical_crossentropy', metrics=['accuracy'])\n",
        "\n",
        "# 모델 요약 출력\n",
        "model.summary()"
      ],
      "metadata": {
        "colab": {
          "base_uri": "https://localhost:8080/"
        },
        "id": "yozlT9HP79J-",
        "outputId": "b0da723f-fb10-4230-c500-ceb095834042"
      },
      "execution_count": 8,
      "outputs": [
        {
          "output_type": "stream",
          "name": "stdout",
          "text": [
            "Model: \"sequential\"\n",
            "_________________________________________________________________\n",
            " Layer (type)                Output Shape              Param #   \n",
            "=================================================================\n",
            " conv1d (Conv1D)             (None, 750, 64)           2112      \n",
            "                                                                 \n",
            " max_pooling1d (MaxPooling1  (None, 375, 64)           0         \n",
            " D)                                                              \n",
            "                                                                 \n",
            " conv1d_1 (Conv1D)           (None, 373, 32)           6176      \n",
            "                                                                 \n",
            " conv1d_2 (Conv1D)           (None, 369, 64)           10304     \n",
            "                                                                 \n",
            " conv1d_3 (Conv1D)           (None, 365, 128)          41088     \n",
            "                                                                 \n",
            " max_pooling1d_1 (MaxPoolin  (None, 182, 128)          0         \n",
            " g1D)                                                            \n",
            "                                                                 \n",
            " flatten (Flatten)           (None, 23296)             0         \n",
            "                                                                 \n",
            " dense (Dense)               (None, 5000)              116485000 \n",
            "                                                                 \n",
            " dense_1 (Dense)             (None, 1000)              5001000   \n",
            "                                                                 \n",
            " dense_2 (Dense)             (None, 4)                 4004      \n",
            "                                                                 \n",
            "=================================================================\n",
            "Total params: 121549684 (463.68 MB)\n",
            "Trainable params: 121549684 (463.68 MB)\n",
            "Non-trainable params: 0 (0.00 Byte)\n",
            "_________________________________________________________________\n"
          ]
        }
      ]
    },
    {
      "cell_type": "code",
      "source": [
        "# 모델 훈련\n",
        "history = model.fit(X_train, y_train_categorical, epochs=10, validation_data=(X_val, y_val_categorical))"
      ],
      "metadata": {
        "colab": {
          "base_uri": "https://localhost:8080/"
        },
        "id": "AEpugYJC79Mu",
        "outputId": "0bb4e7f2-28bc-4c1a-a0dc-b78eae5f6b43"
      },
      "execution_count": 9,
      "outputs": [
        {
          "output_type": "stream",
          "name": "stdout",
          "text": [
            "Epoch 1/10\n",
            "394/394 [==============================] - 229s 575ms/step - loss: 0.9432 - accuracy: 0.6245 - val_loss: 0.3934 - val_accuracy: 0.7567\n",
            "Epoch 2/10\n",
            "394/394 [==============================] - 223s 567ms/step - loss: 0.3288 - accuracy: 0.8508 - val_loss: 0.1119 - val_accuracy: 0.9652\n",
            "Epoch 3/10\n",
            "394/394 [==============================] - 227s 576ms/step - loss: 0.2633 - accuracy: 0.8994 - val_loss: 0.4285 - val_accuracy: 0.7922\n",
            "Epoch 4/10\n",
            "394/394 [==============================] - 229s 582ms/step - loss: 0.0603 - accuracy: 0.9782 - val_loss: 0.0060 - val_accuracy: 0.9989\n",
            "Epoch 5/10\n",
            "394/394 [==============================] - 226s 574ms/step - loss: 0.0186 - accuracy: 0.9927 - val_loss: 0.0277 - val_accuracy: 0.9904\n",
            "Epoch 6/10\n",
            "394/394 [==============================] - 224s 569ms/step - loss: 0.0886 - accuracy: 0.9789 - val_loss: 0.0021 - val_accuracy: 1.0000\n",
            "Epoch 7/10\n",
            "394/394 [==============================] - 224s 567ms/step - loss: 0.0208 - accuracy: 0.9931 - val_loss: 2.9990e-04 - val_accuracy: 1.0000\n",
            "Epoch 8/10\n",
            "394/394 [==============================] - 223s 566ms/step - loss: 0.0036 - accuracy: 0.9984 - val_loss: 0.0178 - val_accuracy: 0.9930\n",
            "Epoch 9/10\n",
            "394/394 [==============================] - 222s 565ms/step - loss: 0.0047 - accuracy: 0.9983 - val_loss: 4.0235e-04 - val_accuracy: 1.0000\n",
            "Epoch 10/10\n",
            "394/394 [==============================] - 222s 565ms/step - loss: 0.0011 - accuracy: 0.9997 - val_loss: 1.8348e-04 - val_accuracy: 1.0000\n"
          ]
        }
      ]
    },
    {
      "cell_type": "code",
      "source": [
        "# 모델 평가\n",
        "test_loss, test_accuracy = model.evaluate(X_test, y_test_categorical)\n",
        "print(f'Test accuracy before pruning: {test_accuracy}')"
      ],
      "metadata": {
        "colab": {
          "base_uri": "https://localhost:8080/"
        },
        "id": "1-j_MeWu79PO",
        "outputId": "83e23a74-aa80-4b4a-cd7a-103893fff532"
      },
      "execution_count": 10,
      "outputs": [
        {
          "output_type": "stream",
          "name": "stdout",
          "text": [
            "85/85 [==============================] - 3s 40ms/step - loss: 0.0069 - accuracy: 0.9981\n",
            "Test accuracy before pruning: 0.9981481432914734\n"
          ]
        }
      ]
    },
    {
      "cell_type": "code",
      "source": [
        "# 원본 모델 저장\n",
        "model.save('model_before_pruning.h5')"
      ],
      "metadata": {
        "colab": {
          "base_uri": "https://localhost:8080/"
        },
        "id": "SZRzl57j79Rw",
        "outputId": "41b69558-adc0-453a-d15d-b4d6103ba7d0"
      },
      "execution_count": 11,
      "outputs": [
        {
          "output_type": "stream",
          "name": "stderr",
          "text": [
            "/usr/local/lib/python3.10/dist-packages/keras/src/engine/training.py:3103: UserWarning: You are saving your model as an HDF5 file via `model.save()`. This file format is considered legacy. We recommend using instead the native Keras format, e.g. `model.save('my_model.keras')`.\n",
            "  saving_api.save_model(\n"
          ]
        }
      ]
    },
    {
      "cell_type": "code",
      "source": [
        "# --- 매그니튜드 기반 프루닝 ---\n",
        "def magnitude_based_pruning(model, pruning_threshold=0.01):\n",
        "    for layer in model.layers:\n",
        "        if hasattr(layer, 'kernel'):\n",
        "            weights, biases = layer.get_weights()\n",
        "            weights[np.abs(weights) < pruning_threshold] = 0\n",
        "            biases[np.abs(biases) < pruning_threshold] = 0\n",
        "            layer.set_weights([weights, biases])"
      ],
      "metadata": {
        "id": "7Kbvahg379Ud"
      },
      "execution_count": 12,
      "outputs": []
    },
    {
      "cell_type": "code",
      "source": [
        "# --- 변화도 기반 프루닝 ---\n",
        "def gradient_based_unstructured_pruning(model, X, y, pruning_threshold=0.0009):\n",
        "    loss_fn = tf.keras.losses.CategoricalCrossentropy()\n",
        "    with tf.GradientTape() as tape:\n",
        "        predictions = model(X, training=True)\n",
        "        loss = loss_fn(y, predictions)\n",
        "    grads = tape.gradient(loss, model.trainable_variables)\n",
        "    grad_index = 0\n",
        "    for layer in model.layers:\n",
        "        if hasattr(layer, 'kernel'):\n",
        "            weights, biases = layer.get_weights()\n",
        "            weight_grad = grads[grad_index]\n",
        "            bias_grad = grads[grad_index + 1]\n",
        "            grad_index += 2\n",
        "            weight_grad_abs = np.abs(weight_grad)\n",
        "            bias_grad_abs = np.abs(bias_grad)\n",
        "            weights[weight_grad_abs < pruning_threshold] = 0\n",
        "            biases[bias_grad_abs < pruning_threshold] = 0\n",
        "            layer.set_weights([weights, biases])"
      ],
      "metadata": {
        "id": "tp_V2LLJ79XG"
      },
      "execution_count": 13,
      "outputs": []
    },
    {
      "cell_type": "code",
      "source": [
        "# --- 비제로 가중치 계산 함수 ---\n",
        "def calculate_non_zero_weights(model):\n",
        "    total_weights = 0\n",
        "    non_zero_weights = 0\n",
        "    for layer in model.layers:\n",
        "        if hasattr(layer, 'kernel'):\n",
        "            weights, biases = layer.get_weights()\n",
        "            total_weights += np.prod(weights.shape) + np.prod(biases.shape)\n",
        "            non_zero_weights += np.count_nonzero(weights) + np.count_nonzero(biases)\n",
        "    return non_zero_weights, total_weights"
      ],
      "metadata": {
        "id": "vrQt7hHu8KKg"
      },
      "execution_count": 14,
      "outputs": []
    },
    {
      "cell_type": "code",
      "source": [
        "# --- 1차 매그니튜드 기반 프루닝 ---\n",
        "magnitude_based_pruning(model, pruning_threshold=0.01)\n",
        "history_pruned_1 = model.fit(X_train, y_train_categorical, epochs=10, validation_data=(X_val, y_val_categorical))"
      ],
      "metadata": {
        "colab": {
          "base_uri": "https://localhost:8080/"
        },
        "id": "tBacw2Dl8KNI",
        "outputId": "8fa420c0-c248-453c-f5f4-0beb2f6743c6"
      },
      "execution_count": 15,
      "outputs": [
        {
          "output_type": "stream",
          "name": "stdout",
          "text": [
            "Epoch 1/10\n",
            "394/394 [==============================] - 229s 582ms/step - loss: 0.3032 - accuracy: 0.9857 - val_loss: 2.3641e-04 - val_accuracy: 1.0000\n",
            "Epoch 2/10\n",
            "394/394 [==============================] - 228s 578ms/step - loss: 0.0026 - accuracy: 0.9990 - val_loss: 1.1254e-04 - val_accuracy: 1.0000\n",
            "Epoch 3/10\n",
            "394/394 [==============================] - 229s 582ms/step - loss: 0.0603 - accuracy: 0.9830 - val_loss: 1.1099e-05 - val_accuracy: 1.0000\n",
            "Epoch 4/10\n",
            "394/394 [==============================] - 232s 588ms/step - loss: 0.0045 - accuracy: 0.9987 - val_loss: 0.0019 - val_accuracy: 0.9996\n",
            "Epoch 5/10\n",
            "394/394 [==============================] - 234s 593ms/step - loss: 0.0434 - accuracy: 0.9833 - val_loss: 3.8102e-04 - val_accuracy: 1.0000\n",
            "Epoch 6/10\n",
            "394/394 [==============================] - 233s 591ms/step - loss: 0.0173 - accuracy: 0.9938 - val_loss: 8.5166e-05 - val_accuracy: 1.0000\n",
            "Epoch 7/10\n",
            "394/394 [==============================] - 234s 594ms/step - loss: 0.1708 - accuracy: 0.9683 - val_loss: 0.0042 - val_accuracy: 0.9985\n",
            "Epoch 8/10\n",
            "394/394 [==============================] - 234s 595ms/step - loss: 0.0255 - accuracy: 0.9921 - val_loss: 0.0038 - val_accuracy: 0.9985\n",
            "Epoch 9/10\n",
            "394/394 [==============================] - 234s 595ms/step - loss: 0.0347 - accuracy: 0.9936 - val_loss: 3.9624e-05 - val_accuracy: 1.0000\n",
            "Epoch 10/10\n",
            "394/394 [==============================] - 234s 594ms/step - loss: 0.0017 - accuracy: 0.9994 - val_loss: 0.0031 - val_accuracy: 0.9989\n"
          ]
        }
      ]
    },
    {
      "cell_type": "code",
      "source": [
        "# --- 2차 변화도 기반 프루닝 ---\n",
        "gradient_based_unstructured_pruning(model, X_train[:100], y_train_categorical[:100])\n",
        "history_pruned_2 = model.fit(X_train, y_train_categorical, epochs=10, validation_data=(X_val, y_val_categorical))"
      ],
      "metadata": {
        "colab": {
          "base_uri": "https://localhost:8080/"
        },
        "id": "NNux7HYe8KPe",
        "outputId": "fc885f31-e432-425f-8d80-16e52396a347"
      },
      "execution_count": 16,
      "outputs": [
        {
          "output_type": "stream",
          "name": "stdout",
          "text": [
            "Epoch 1/10\n",
            "394/394 [==============================] - 238s 604ms/step - loss: 1.2592 - accuracy: 0.4995 - val_loss: 1.2443 - val_accuracy: 0.5000\n",
            "Epoch 2/10\n",
            "394/394 [==============================] - 235s 596ms/step - loss: 1.2448 - accuracy: 0.5000 - val_loss: 1.2430 - val_accuracy: 0.5000\n",
            "Epoch 3/10\n",
            "394/394 [==============================] - 237s 601ms/step - loss: 1.2441 - accuracy: 0.5000 - val_loss: 1.2430 - val_accuracy: 0.5000\n",
            "Epoch 4/10\n",
            "394/394 [==============================] - 236s 598ms/step - loss: 1.2439 - accuracy: 0.5000 - val_loss: 1.2427 - val_accuracy: 0.5000\n",
            "Epoch 5/10\n",
            "394/394 [==============================] - 235s 598ms/step - loss: 1.2439 - accuracy: 0.5000 - val_loss: 1.2450 - val_accuracy: 0.5000\n",
            "Epoch 6/10\n",
            "394/394 [==============================] - 235s 596ms/step - loss: 1.2425 - accuracy: 0.5000 - val_loss: 1.2409 - val_accuracy: 0.5000\n",
            "Epoch 7/10\n",
            "394/394 [==============================] - 234s 594ms/step - loss: 1.1552 - accuracy: 0.5188 - val_loss: 0.6059 - val_accuracy: 0.6667\n",
            "Epoch 8/10\n",
            "394/394 [==============================] - 235s 597ms/step - loss: 0.2251 - accuracy: 0.9099 - val_loss: 0.1076 - val_accuracy: 0.9752\n",
            "Epoch 9/10\n",
            "394/394 [==============================] - 236s 598ms/step - loss: 0.0224 - accuracy: 0.9975 - val_loss: 0.0051 - val_accuracy: 1.0000\n",
            "Epoch 10/10\n",
            "394/394 [==============================] - 237s 602ms/step - loss: 0.0022 - accuracy: 1.0000 - val_loss: 0.0011 - val_accuracy: 1.0000\n"
          ]
        }
      ]
    },
    {
      "cell_type": "code",
      "source": [
        "# --- 구조적 프루닝: TF-MOT 사용 ---\n",
        "pruning_params = {\n",
        "    'pruning_schedule': tfmot.sparsity.keras.PolynomialDecay(\n",
        "        initial_sparsity=0.0,\n",
        "        final_sparsity=0.5,\n",
        "        begin_step=2000,\n",
        "        end_step=10000\n",
        "    )\n",
        "}"
      ],
      "metadata": {
        "id": "huN5CfvI8KR-"
      },
      "execution_count": 17,
      "outputs": []
    },
    {
      "cell_type": "code",
      "source": [
        "# 프루닝 가능한 모델로 변환\n",
        "model_for_pruning = tfmot.sparsity.keras.prune_low_magnitude(model, **pruning_params)\n",
        "model_for_pruning.compile(optimizer='adam', loss='categorical_crossentropy', metrics=['accuracy'])"
      ],
      "metadata": {
        "id": "PQ6Orve28KUe"
      },
      "execution_count": 18,
      "outputs": []
    },
    {
      "cell_type": "code",
      "source": [
        "# 프루닝 콜백 설정\n",
        "callbacks = [\n",
        "    tfmot.sparsity.keras.UpdatePruningStep(),\n",
        "    tfmot.sparsity.keras.PruningSummaries(log_dir='/tmp/pruning_logs')\n",
        "]"
      ],
      "metadata": {
        "id": "3A-OSwlV8KW2"
      },
      "execution_count": 19,
      "outputs": []
    },
    {
      "cell_type": "code",
      "source": [
        "# 모델 재훈련 (구조적 프루닝 적용)\n",
        "history_pruned_structured = model_for_pruning.fit(\n",
        "    X_train, y_train_categorical,\n",
        "    epochs=10,\n",
        "    validation_data=(X_val, y_val_categorical),\n",
        "    callbacks=callbacks\n",
        ")"
      ],
      "metadata": {
        "colab": {
          "base_uri": "https://localhost:8080/"
        },
        "id": "v72vG8pt8KZO",
        "outputId": "d64fc5a6-245f-4b84-c946-443482dd532a"
      },
      "execution_count": 20,
      "outputs": [
        {
          "output_type": "stream",
          "name": "stdout",
          "text": [
            "Epoch 1/10\n",
            "394/394 [==============================] - 239s 596ms/step - loss: 0.3777 - accuracy: 0.9045 - val_loss: 0.5088 - val_accuracy: 0.7174\n",
            "Epoch 2/10\n",
            "394/394 [==============================] - 241s 611ms/step - loss: 0.1013 - accuracy: 0.9719 - val_loss: 0.0058 - val_accuracy: 0.9993\n",
            "Epoch 3/10\n",
            "394/394 [==============================] - 240s 609ms/step - loss: 0.1384 - accuracy: 0.9602 - val_loss: 0.0136 - val_accuracy: 0.9996\n",
            "Epoch 4/10\n",
            "394/394 [==============================] - 240s 610ms/step - loss: 8.3903e-04 - accuracy: 0.9999 - val_loss: 2.2141e-04 - val_accuracy: 1.0000\n",
            "Epoch 5/10\n",
            "394/394 [==============================] - 240s 610ms/step - loss: 1.2498e-04 - accuracy: 1.0000 - val_loss: 5.1729e-05 - val_accuracy: 1.0000\n",
            "Epoch 6/10\n",
            "394/394 [==============================] - 297s 755ms/step - loss: 5.2195e-05 - accuracy: 1.0000 - val_loss: 2.7153e-05 - val_accuracy: 1.0000\n",
            "Epoch 7/10\n",
            "394/394 [==============================] - 300s 763ms/step - loss: 2.5759e-05 - accuracy: 1.0000 - val_loss: 1.7254e-05 - val_accuracy: 1.0000\n",
            "Epoch 8/10\n",
            "394/394 [==============================] - 301s 764ms/step - loss: 1.6977e-05 - accuracy: 1.0000 - val_loss: 1.3061e-05 - val_accuracy: 1.0000\n",
            "Epoch 9/10\n",
            "394/394 [==============================] - 300s 762ms/step - loss: 1.1456e-05 - accuracy: 1.0000 - val_loss: 7.1373e-06 - val_accuracy: 1.0000\n",
            "Epoch 10/10\n",
            "394/394 [==============================] - 302s 767ms/step - loss: 1.0532e-05 - accuracy: 1.0000 - val_loss: 4.3190e-06 - val_accuracy: 1.0000\n"
          ]
        }
      ]
    },
    {
      "cell_type": "code",
      "source": [
        "# 모델 평가\n",
        "test_loss_pruned, test_accuracy_pruned = model_for_pruning.evaluate(X_test, y_test_categorical)\n",
        "print(f'Test accuracy after structured pruning: {test_accuracy_pruned}')"
      ],
      "metadata": {
        "colab": {
          "base_uri": "https://localhost:8080/"
        },
        "id": "3tO3VDi-79ZY",
        "outputId": "fd695a14-bccd-45e8-fb4f-13ad19ba3a96"
      },
      "execution_count": 21,
      "outputs": [
        {
          "output_type": "stream",
          "name": "stdout",
          "text": [
            "85/85 [==============================] - 11s 125ms/step - loss: 2.2551e-05 - accuracy: 1.0000\n",
            "Test accuracy after structured pruning: 1.0\n"
          ]
        }
      ]
    },
    {
      "cell_type": "code",
      "source": [
        "# 프루닝 레이어 제거 및 모델 저장\n",
        "model_for_export = tfmot.sparsity.keras.strip_pruning(model_for_pruning)\n",
        "model_for_export.save('model_after_structured_pruning.h5')"
      ],
      "metadata": {
        "colab": {
          "base_uri": "https://localhost:8080/"
        },
        "id": "egxlmbWg79b-",
        "outputId": "ebde6217-9970-434e-a9f5-7353832f6b4f"
      },
      "execution_count": 22,
      "outputs": [
        {
          "output_type": "stream",
          "name": "stderr",
          "text": [
            "WARNING:tensorflow:Compiled the loaded model, but the compiled metrics have yet to be built. `model.compile_metrics` will be empty until you train or evaluate the model.\n"
          ]
        }
      ]
    },
    {
      "cell_type": "code",
      "source": [
        "# 모델 사이즈 측정\n",
        "model_size_before = os.path.getsize('model_before_pruning.h5') / (1024 * 1024)\n",
        "model_size_after = os.path.getsize('model_after_structured_pruning.h5') / (1024 * 1024)\n",
        "print(f\"Model Size before pruning: {model_size_before:.2f} MB\")\n",
        "print(f\"Model Size after structured pruning: {model_size_after:.2f} MB\")"
      ],
      "metadata": {
        "colab": {
          "base_uri": "https://localhost:8080/"
        },
        "id": "8xTqhpkv79em",
        "outputId": "eac687f8-0aa6-4ab8-d3b1-72c3a7a5a2ef"
      },
      "execution_count": 23,
      "outputs": [
        {
          "output_type": "stream",
          "name": "stdout",
          "text": [
            "Model Size before pruning: 1391.09 MB\n",
            "Model Size after structured pruning: 463.71 MB\n"
          ]
        }
      ]
    },
    {
      "cell_type": "code",
      "source": [
        "# 프루닝 후 비제로 가중치 계산\n",
        "non_zero_after, total_after = calculate_non_zero_weights(model_for_export)\n",
        "print(f\"After Structured Pruning: Non-zero weights: {non_zero_after}/{total_after}\")\n",
        "print(f\"Final non-zero weight ratio: {non_zero_after / total_after:.4f}\")"
      ],
      "metadata": {
        "colab": {
          "base_uri": "https://localhost:8080/"
        },
        "id": "u6GrhI_j8Zwl",
        "outputId": "39fca3cd-7076-454e-a798-ffc413448390"
      },
      "execution_count": 24,
      "outputs": [
        {
          "output_type": "stream",
          "name": "stdout",
          "text": [
            "After Structured Pruning: Non-zero weights: 12830488/121549684\n",
            "Final non-zero weight ratio: 0.1056\n"
          ]
        }
      ]
    },
    {
      "cell_type": "code",
      "source": [],
      "metadata": {
        "id": "xTPiFhNU8Z6B"
      },
      "execution_count": 24,
      "outputs": []
    }
  ]
}