{
  "nbformat": 4,
  "nbformat_minor": 0,
  "metadata": {
    "colab": {
      "provenance": [],
      "machine_shape": "hm",
      "gpuType": "V28",
      "authorship_tag": "ABX9TyM4K6b/4cucIojSEcNNURz8",
      "include_colab_link": true
    },
    "kernelspec": {
      "name": "python3",
      "display_name": "Python 3"
    },
    "language_info": {
      "name": "python"
    },
    "accelerator": "TPU"
  },
  "cells": [
    {
      "cell_type": "markdown",
      "metadata": {
        "id": "view-in-github",
        "colab_type": "text"
      },
      "source": [
        "<a href=\"https://colab.research.google.com/github/TheCaveOfAdullam/study3/blob/main/gradientPruningTest.ipynb\" target=\"_parent\"><img src=\"https://colab.research.google.com/assets/colab-badge.svg\" alt=\"Open In Colab\"/></a>"
      ]
    },
    {
      "cell_type": "code",
      "execution_count": 1,
      "metadata": {
        "colab": {
          "base_uri": "https://localhost:8080/"
        },
        "id": "6W6WIf0ThoN7",
        "outputId": "41fc32cf-9804-4c68-f8f7-04416ba88c32"
      },
      "outputs": [
        {
          "output_type": "stream",
          "name": "stdout",
          "text": [
            "Mounted at /content/drive\n"
          ]
        }
      ],
      "source": [
        "from google.colab import drive\n",
        "drive.mount('/content/drive')"
      ]
    },
    {
      "cell_type": "code",
      "source": [
        "import os\n",
        "import numpy as np\n",
        "import pandas as pd\n",
        "import tensorflow as tf\n",
        "from tensorflow.keras import layers, models\n",
        "from sklearn.preprocessing import LabelEncoder"
      ],
      "metadata": {
        "id": "0lkC61sKhvRt"
      },
      "execution_count": 2,
      "outputs": []
    },
    {
      "cell_type": "code",
      "source": [
        "# 기본 경로 설정\n",
        "base_dir = '/content/drive/MyDrive/ship_motor10'\n",
        "categories = ['normal', 'fault_BB', 'fault_RI', 'fault_SM']\n",
        "\n",
        "# 데이터 로드 및 전처리 함수 정의\n",
        "def load_data(base_dir, split):\n",
        "    X = []\n",
        "    y = []\n",
        "    split_dir = os.path.join(base_dir, split)\n",
        "    for category in categories:\n",
        "        category_dir = os.path.join(split_dir, category)\n",
        "        for file in os.listdir(category_dir):\n",
        "            file_path = os.path.join(category_dir, file)\n",
        "            data = pd.read_csv(file_path, header=None).values\n",
        "            data = pd.to_numeric(data.flatten(), errors='coerce').reshape(-1, data.shape[1])\n",
        "            data = np.nan_to_num(data).astype('float32')  # NaN 값을 0으로 대체하고, float32로 변환\n",
        "            X.append(data)\n",
        "            y.append(category)\n",
        "    return np.array(X), np.array(y)\n",
        "\n",
        "# 데이터 로드\n",
        "X_train, y_train = load_data(base_dir, 'train')\n",
        "X_val, y_val = load_data(base_dir, 'validation')\n",
        "X_test, y_test = load_data(base_dir, 'test')\n",
        "\n",
        "# 데이터 차원 변경 (CNN 입력 형식에 맞게)\n",
        "X_train = np.expand_dims(X_train, axis=-1)\n",
        "X_val = np.expand_dims(X_val, axis=-1)\n",
        "X_test = np.expand_dims(X_test, axis=-1)\n",
        "\n",
        "# 레이블 인코딩\n",
        "label_encoder = LabelEncoder()\n",
        "y_train_encoded = label_encoder.fit_transform(y_train)\n",
        "y_val_encoded = label_encoder.transform(y_val)\n",
        "y_test_encoded = label_encoder.transform(y_test)\n",
        "\n",
        "# 원-핫 인코딩\n",
        "y_train_categorical = tf.keras.utils.to_categorical(y_train_encoded)\n",
        "y_val_categorical = tf.keras.utils.to_categorical(y_val_encoded)\n",
        "y_test_categorical = tf.keras.utils.to_categorical(y_test_encoded)\n"
      ],
      "metadata": {
        "id": "_vAKnpgzhvUd"
      },
      "execution_count": 3,
      "outputs": []
    },
    {
      "cell_type": "code",
      "source": [
        "# 모델 정의\n",
        "model = models.Sequential()\n",
        "\n",
        "# Conv1 레이어\n",
        "model.add(layers.Conv1D(filters=64, kernel_size=16, strides=16, activation='relu', input_shape=(X_train.shape[1], X_train.shape[2])))\n",
        "# Pool1 레이어\n",
        "model.add(layers.MaxPooling1D(pool_size=2, strides=2))\n",
        "\n",
        "# Conv2 레이어\n",
        "model.add(layers.Conv1D(filters=32, kernel_size=3, strides=1, activation='relu'))\n",
        "\n",
        "# Conv3 레이어\n",
        "model.add(layers.Conv1D(filters=64, kernel_size=5, strides=1, activation='relu'))\n",
        "\n",
        "# Conv4 레이어\n",
        "model.add(layers.Conv1D(filters=128, kernel_size=5, strides=1, activation='relu'))\n",
        "\n",
        "# Pool2 레이어\n",
        "model.add(layers.MaxPooling1D(pool_size=2, strides=2))\n",
        "\n",
        "# Flatten 레이어\n",
        "model.add(layers.Flatten())\n",
        "\n",
        "# FC1 레이어\n",
        "model.add(layers.Dense(units=5000, activation='relu'))\n",
        "\n",
        "# FC2 레이어\n",
        "model.add(layers.Dense(units=1000, activation='relu'))\n",
        "\n",
        "# Output 레이어\n",
        "model.add(layers.Dense(len(categories), activation='softmax'))\n",
        "\n",
        "# 모델 컴파일\n",
        "model.compile(optimizer='adam', loss='categorical_crossentropy', metrics=['accuracy'])\n",
        "\n",
        "# 모델 요약 출력\n",
        "model.summary()"
      ],
      "metadata": {
        "colab": {
          "base_uri": "https://localhost:8080/"
        },
        "id": "NyzvqGOxhvW8",
        "outputId": "10bbd711-3f1f-4dcb-f897-3a05042882e5"
      },
      "execution_count": 4,
      "outputs": [
        {
          "output_type": "stream",
          "name": "stdout",
          "text": [
            "Model: \"sequential\"\n",
            "_________________________________________________________________\n",
            " Layer (type)                Output Shape              Param #   \n",
            "=================================================================\n",
            " conv1d (Conv1D)             (None, 750, 64)           2112      \n",
            "                                                                 \n",
            " max_pooling1d (MaxPooling1  (None, 375, 64)           0         \n",
            " D)                                                              \n",
            "                                                                 \n",
            " conv1d_1 (Conv1D)           (None, 373, 32)           6176      \n",
            "                                                                 \n",
            " conv1d_2 (Conv1D)           (None, 369, 64)           10304     \n",
            "                                                                 \n",
            " conv1d_3 (Conv1D)           (None, 365, 128)          41088     \n",
            "                                                                 \n",
            " max_pooling1d_1 (MaxPoolin  (None, 182, 128)          0         \n",
            " g1D)                                                            \n",
            "                                                                 \n",
            " flatten (Flatten)           (None, 23296)             0         \n",
            "                                                                 \n",
            " dense (Dense)               (None, 5000)              116485000 \n",
            "                                                                 \n",
            " dense_1 (Dense)             (None, 1000)              5001000   \n",
            "                                                                 \n",
            " dense_2 (Dense)             (None, 4)                 4004      \n",
            "                                                                 \n",
            "=================================================================\n",
            "Total params: 121549684 (463.68 MB)\n",
            "Trainable params: 121549684 (463.68 MB)\n",
            "Non-trainable params: 0 (0.00 Byte)\n",
            "_________________________________________________________________\n"
          ]
        }
      ]
    },
    {
      "cell_type": "code",
      "source": [
        "# 모델 훈련\n",
        "history = model.fit(X_train, y_train_categorical, epochs=10, validation_data=(X_val, y_val_categorical))"
      ],
      "metadata": {
        "colab": {
          "base_uri": "https://localhost:8080/"
        },
        "id": "ShyRX3aChvZe",
        "outputId": "c585df78-f7ab-4d16-edbd-d881c73e227f"
      },
      "execution_count": 5,
      "outputs": [
        {
          "output_type": "stream",
          "name": "stdout",
          "text": [
            "Epoch 1/10\n",
            "394/394 [==============================] - 200s 503ms/step - loss: 0.9350 - accuracy: 0.6067 - val_loss: 0.2356 - val_accuracy: 0.8396\n",
            "Epoch 2/10\n",
            "394/394 [==============================] - 196s 498ms/step - loss: 0.0991 - accuracy: 0.9691 - val_loss: 0.0019 - val_accuracy: 1.0000\n",
            "Epoch 3/10\n",
            "394/394 [==============================] - 198s 503ms/step - loss: 0.0388 - accuracy: 0.9879 - val_loss: 0.0080 - val_accuracy: 0.9996\n",
            "Epoch 4/10\n",
            "394/394 [==============================] - 200s 507ms/step - loss: 0.0038 - accuracy: 0.9996 - val_loss: 0.0020 - val_accuracy: 1.0000\n",
            "Epoch 5/10\n",
            "394/394 [==============================] - 198s 502ms/step - loss: 0.0859 - accuracy: 0.9752 - val_loss: 0.0091 - val_accuracy: 0.9978\n",
            "Epoch 6/10\n",
            "394/394 [==============================] - 197s 500ms/step - loss: 8.7220e-04 - accuracy: 0.9998 - val_loss: 2.6189e-04 - val_accuracy: 1.0000\n",
            "Epoch 7/10\n",
            "394/394 [==============================] - 197s 499ms/step - loss: 0.0308 - accuracy: 0.9923 - val_loss: 4.1570e-04 - val_accuracy: 1.0000\n",
            "Epoch 8/10\n",
            "394/394 [==============================] - 197s 500ms/step - loss: 0.0155 - accuracy: 0.9956 - val_loss: 3.4812e-04 - val_accuracy: 1.0000\n",
            "Epoch 9/10\n",
            "394/394 [==============================] - 196s 498ms/step - loss: 3.2483e-05 - accuracy: 1.0000 - val_loss: 4.7180e-05 - val_accuracy: 1.0000\n",
            "Epoch 10/10\n",
            "394/394 [==============================] - 196s 497ms/step - loss: 2.0494e-05 - accuracy: 1.0000 - val_loss: 2.5826e-05 - val_accuracy: 1.0000\n"
          ]
        }
      ]
    },
    {
      "cell_type": "code",
      "source": [
        "# 모델 평가\n",
        "test_loss, test_accuracy = model.evaluate(X_test, y_test_categorical)\n",
        "print(f'Test accuracy before pruning: {test_accuracy}')"
      ],
      "metadata": {
        "colab": {
          "base_uri": "https://localhost:8080/"
        },
        "id": "i0h5xWTShvb8",
        "outputId": "7376b70e-7fe3-4e26-d297-a71d2be6429f"
      },
      "execution_count": 6,
      "outputs": [
        {
          "output_type": "stream",
          "name": "stdout",
          "text": [
            "85/85 [==============================] - 3s 40ms/step - loss: 3.3806e-05 - accuracy: 1.0000\n",
            "Test accuracy before pruning: 1.0\n"
          ]
        }
      ]
    },
    {
      "cell_type": "code",
      "source": [
        "# 원본 모델 저장\n",
        "model.save('model_before_pruning.h5')"
      ],
      "metadata": {
        "colab": {
          "base_uri": "https://localhost:8080/"
        },
        "id": "DjoKsPb1hveU",
        "outputId": "996de8e0-72be-4474-d83d-240caefb9855"
      },
      "execution_count": 7,
      "outputs": [
        {
          "output_type": "stream",
          "name": "stderr",
          "text": [
            "/usr/local/lib/python3.10/dist-packages/keras/src/engine/training.py:3103: UserWarning: You are saving your model as an HDF5 file via `model.save()`. This file format is considered legacy. We recommend using instead the native Keras format, e.g. `model.save('my_model.keras')`.\n",
            "  saving_api.save_model(\n"
          ]
        }
      ]
    },
    {
      "cell_type": "code",
      "source": [
        "def gradient_based_unstructured_pruning(model, X, y, pruning_threshold=0.001):\n",
        "    \"\"\"\n",
        "    모델의 모든 레이어에 대해 변화도를 계산하고,\n",
        "    변화도가 pruning_threshold보다 작은 개별 가중치를 0으로 만듭니다.\n",
        "    비구조적 프루닝.\n",
        "    \"\"\"\n",
        "    # 손실 함수 정의\n",
        "    loss_fn = tf.keras.losses.CategoricalCrossentropy()\n",
        "\n",
        "    # 변화도 계산을 위한 테이프\n",
        "    with tf.GradientTape() as tape:\n",
        "        predictions = model(X, training=True)\n",
        "        loss = loss_fn(y, predictions)\n",
        "\n",
        "    # 모델의 모든 가중치에 대한 변화도 계산\n",
        "    grads = tape.gradient(loss, model.trainable_variables)\n",
        "\n",
        "    # 각 레이어에 대해 변화도 기반 비구조적 프루닝 적용\n",
        "    grad_index = 0  # 변화도 배열에서 해당 레이어의 인덱스 관리\n",
        "    for layer in model.layers:\n",
        "        if hasattr(layer, 'kernel'):\n",
        "            # 레이어의 가중치와 바이어스 가져오기\n",
        "            weights, biases = layer.get_weights()\n",
        "\n",
        "            # 레이어의 가중치에 대한 변화도 가져오기\n",
        "            weight_grad = grads[grad_index]  # i번째 레이어의 가중치에 대한 변화도\n",
        "            bias_grad = grads[grad_index + 1]  # i번째 레이어의 바이어스에 대한 변화도\n",
        "            grad_index += 2  # 가중치와 바이어스 둘 다 처리했으므로 2만큼 인덱스 증가\n",
        "\n",
        "            # 각 가중치 요소별로 변화도의 절댓값 계산\n",
        "            weight_grad_abs = np.abs(weight_grad)\n",
        "            bias_grad_abs = np.abs(bias_grad)\n",
        "\n",
        "            # 가중치와 변화도의 차원을 맞추기 위해 가중치와 동일한 차원 유지\n",
        "            weights[weight_grad_abs < pruning_threshold] = 0\n",
        "            biases[bias_grad_abs < pruning_threshold] = 0\n",
        "\n",
        "            # 프루닝된 가중치와 바이어스를 레이어에 다시 설정\n",
        "            layer.set_weights([weights, biases])"
      ],
      "metadata": {
        "id": "iTG6sz6Jhvg3"
      },
      "execution_count": 8,
      "outputs": []
    },
    {
      "cell_type": "code",
      "source": [
        "# 비구조적 프루닝 적용\n",
        "gradient_based_unstructured_pruning(model, X_train[:100], y_train_categorical[:100])"
      ],
      "metadata": {
        "id": "PDPukP62hvjV"
      },
      "execution_count": 9,
      "outputs": []
    },
    {
      "cell_type": "code",
      "source": [
        "# 프루닝 후 모델 재훈련\n",
        "history_pruned = model.fit(X_train, y_train_categorical, epochs=10, validation_data=(X_val, y_val_categorical))"
      ],
      "metadata": {
        "colab": {
          "base_uri": "https://localhost:8080/"
        },
        "id": "b6tjTRvqhvmA",
        "outputId": "053b253f-e4bb-4121-ab90-425b0ed2bac6"
      },
      "execution_count": 10,
      "outputs": [
        {
          "output_type": "stream",
          "name": "stdout",
          "text": [
            "Epoch 1/10\n",
            "394/394 [==============================] - 200s 508ms/step - loss: 1.2565 - accuracy: 0.4991 - val_loss: 1.2430 - val_accuracy: 0.5000\n",
            "Epoch 2/10\n",
            "394/394 [==============================] - 200s 508ms/step - loss: 1.2437 - accuracy: 0.5000 - val_loss: 1.2437 - val_accuracy: 0.5000\n",
            "Epoch 3/10\n",
            "394/394 [==============================] - 199s 505ms/step - loss: 1.2434 - accuracy: 0.5000 - val_loss: 1.2431 - val_accuracy: 0.5000\n",
            "Epoch 4/10\n",
            "394/394 [==============================] - 200s 507ms/step - loss: 1.2435 - accuracy: 0.5000 - val_loss: 1.2427 - val_accuracy: 0.5000\n",
            "Epoch 5/10\n",
            "394/394 [==============================] - 199s 505ms/step - loss: 1.2435 - accuracy: 0.5000 - val_loss: 1.2427 - val_accuracy: 0.5000\n",
            "Epoch 6/10\n",
            "394/394 [==============================] - 201s 510ms/step - loss: 1.2436 - accuracy: 0.5000 - val_loss: 1.2425 - val_accuracy: 0.5000\n",
            "Epoch 7/10\n",
            "394/394 [==============================] - 201s 509ms/step - loss: 1.2433 - accuracy: 0.5000 - val_loss: 1.2425 - val_accuracy: 0.5000\n",
            "Epoch 8/10\n",
            "394/394 [==============================] - 201s 511ms/step - loss: 1.2430 - accuracy: 0.5000 - val_loss: 1.2426 - val_accuracy: 0.5000\n",
            "Epoch 9/10\n",
            "394/394 [==============================] - 201s 510ms/step - loss: 1.2432 - accuracy: 0.5000 - val_loss: 1.2431 - val_accuracy: 0.5000\n",
            "Epoch 10/10\n",
            "394/394 [==============================] - 201s 510ms/step - loss: 1.2428 - accuracy: 0.5000 - val_loss: 1.2434 - val_accuracy: 0.5000\n"
          ]
        }
      ]
    },
    {
      "cell_type": "code",
      "source": [
        "# 프루닝 후 모델 평가\n",
        "test_loss_pruned, test_accuracy_pruned = model.evaluate(X_test, y_test_categorical)\n",
        "print(f'Test accuracy after pruning: {test_accuracy_pruned}')"
      ],
      "metadata": {
        "colab": {
          "base_uri": "https://localhost:8080/"
        },
        "id": "0HK63OuuhvoH",
        "outputId": "8ad4debb-6561-4ee5-d9a9-a61b03574da7"
      },
      "execution_count": 11,
      "outputs": [
        {
          "output_type": "stream",
          "name": "stdout",
          "text": [
            "85/85 [==============================] - 4s 44ms/step - loss: 1.2434 - accuracy: 0.5000\n",
            "Test accuracy after pruning: 0.5\n"
          ]
        }
      ]
    },
    {
      "cell_type": "code",
      "source": [
        "# 프루닝 후 모델 저장\n",
        "model.save('model_after_pruning.h5')\n",
        "\n",
        "# 모델 사이즈 측정\n",
        "model_size_before = os.path.getsize('model_before_pruning.h5') / (1024 * 1024)\n",
        "model_size_after = os.path.getsize('model_after_pruning.h5') / (1024 * 1024)\n",
        "print(f\"Model Size before pruning: {model_size_before:.2f} MB\")\n",
        "print(f\"Model Size after pruning: {model_size_after:.2f} MB\")"
      ],
      "metadata": {
        "colab": {
          "base_uri": "https://localhost:8080/"
        },
        "id": "LLMWMQythvqu",
        "outputId": "a7a53632-e471-401b-962a-2974d79b7474"
      },
      "execution_count": 12,
      "outputs": [
        {
          "output_type": "stream",
          "name": "stdout",
          "text": [
            "Model Size before pruning: 1391.09 MB\n",
            "Model Size after pruning: 1391.09 MB\n"
          ]
        }
      ]
    },
    {
      "cell_type": "code",
      "source": [
        "# 비제로 가중치 계산 함수 정의\n",
        "def calculate_non_zero_weights(model):\n",
        "    \"\"\"\n",
        "    모델의 레이어별 비제로 가중치와 전체 가중치의 수를 계산하는 함수.\n",
        "    Conv 레이어 또는 Dense 레이어의 kernel 가중치와 bias를 확인하고 비제로 가중치 수를 세어줌.\n",
        "    \"\"\"\n",
        "    total_weights = 0  # 전체 가중치 수\n",
        "    non_zero_weights = 0  # 비제로 가중치 수\n",
        "\n",
        "    for layer in model.layers:\n",
        "        # 레이어가 kernel 가중치를 가지고 있는지 확인 (Conv 또는 Dense 레이어)\n",
        "        if hasattr(layer, 'kernel'):\n",
        "            # 레이어의 가중치와 바이어스 가져오기\n",
        "            weights, biases = layer.get_weights()\n",
        "\n",
        "            # 전체 가중치 수 계산 (weights와 biases의 요소 수를 더함)\n",
        "            total_weights += np.prod(weights.shape) + np.prod(biases.shape)\n",
        "\n",
        "            # 비제로 가중치 수 계산\n",
        "            non_zero_weights += np.count_nonzero(weights) + np.count_nonzero(biases)\n",
        "\n",
        "    return non_zero_weights, total_weights"
      ],
      "metadata": {
        "id": "qZjYGHfVjNmF"
      },
      "execution_count": 13,
      "outputs": []
    },
    {
      "cell_type": "code",
      "source": [
        "# 프루닝 전후 비제로 가중치 및 전체 가중치 계산\n",
        "non_zero_weights_before, total_weights_before = calculate_non_zero_weights(model)\n",
        "non_zero_weights_after, total_weights_after = calculate_non_zero_weights(model)"
      ],
      "metadata": {
        "id": "oGPqXJeajNov"
      },
      "execution_count": 14,
      "outputs": []
    },
    {
      "cell_type": "code",
      "source": [
        "# 결과 출력\n",
        "print(f\"Before pruning: Non-zero weights = {non_zero_weights_before}, Total weights = {total_weights_before}\")\n",
        "print(f\"After pruning: Non-zero weights = {non_zero_weights_after}, Total weights = {total_weights_after}\")\n",
        "print(f\"Final non-zero weight ratio: {non_zero_weights_after / total_weights_after:.4f}\")"
      ],
      "metadata": {
        "colab": {
          "base_uri": "https://localhost:8080/"
        },
        "id": "r_Hd6xBJjNrc",
        "outputId": "d46673de-e80e-4841-f937-b069f76668c8"
      },
      "execution_count": 15,
      "outputs": [
        {
          "output_type": "stream",
          "name": "stdout",
          "text": [
            "Before pruning: Non-zero weights = 2004757, Total weights = 121549684\n",
            "After pruning: Non-zero weights = 2004757, Total weights = 121549684\n",
            "Final non-zero weight ratio: 0.0165\n"
          ]
        }
      ]
    }
  ]
}