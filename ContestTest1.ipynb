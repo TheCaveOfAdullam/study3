{
  "nbformat": 4,
  "nbformat_minor": 0,
  "metadata": {
    "colab": {
      "provenance": [],
      "mount_file_id": "1q5bFSN05tusgLqwWbRW-qM4TsNUGf5wH",
      "authorship_tag": "ABX9TyP8Vjzamqa0Y21ECKHY0q/O",
      "include_colab_link": true
    },
    "kernelspec": {
      "name": "python3",
      "display_name": "Python 3"
    },
    "language_info": {
      "name": "python"
    }
  },
  "cells": [
    {
      "cell_type": "markdown",
      "metadata": {
        "id": "view-in-github",
        "colab_type": "text"
      },
      "source": [
        "<a href=\"https://colab.research.google.com/github/TheCaveOfAdullam/study3/blob/main/ContestTest1.ipynb\" target=\"_parent\"><img src=\"https://colab.research.google.com/assets/colab-badge.svg\" alt=\"Open In Colab\"/></a>"
      ]
    },
    {
      "cell_type": "code",
      "source": [
        "import tensorflow as tf\n",
        "from sklearn.metrics import confusion_matrix, classification_report, f1_score\n",
        "import numpy as np\n",
        "import scipy.io\n",
        "import os\n",
        "import matplotlib.pyplot as plt\n",
        "import seaborn as sns\n",
        "from tensorflow.keras.utils import to_categorical"
      ],
      "metadata": {
        "id": "fxynzj-zEq5S"
      },
      "execution_count": 28,
      "outputs": []
    },
    {
      "cell_type": "code",
      "source": [
        "# 1. 저장된 모델 불러오기\n",
        "model = tf.keras.models.load_model('/content/drive/MyDrive/saveModel/bearing_fault_detection_model.h5', compile=False)\n",
        "\n",
        "# 모델 재컴파일\n",
        "model.compile(optimizer='adam', loss='categorical_crossentropy', metrics=['accuracy'])"
      ],
      "metadata": {
        "colab": {
          "base_uri": "https://localhost:8080/"
        },
        "id": "WnJfLDkSErxy",
        "outputId": "0ee8c731-56c3-4db9-f183-c86a48158282"
      },
      "execution_count": 29,
      "outputs": [
        {
          "output_type": "stream",
          "name": "stderr",
          "text": [
            "/usr/local/lib/python3.10/dist-packages/keras/src/layers/convolutional/base_conv.py:107: UserWarning: Do not pass an `input_shape`/`input_dim` argument to a layer. When using Sequential models, prefer using an `Input(shape)` object as the first layer in the model instead.\n",
            "  super().__init__(activity_regularizer=activity_regularizer, **kwargs)\n"
          ]
        }
      ]
    },
    {
      "cell_type": "code",
      "source": [
        "# 2. 평가용 데이터 불러오기 및 전처리\n",
        "\n",
        "# 평가용 데이터 경로 설정 (예시 경로이므로 실제 경로로 수정 필요)\n",
        "test_base_paths = ['/content/drive/MyDrive/bearing2']\n",
        "\n",
        "# 데이터 로드 및 전처리 함수 (훈련 시 사용한 함수와 동일하게)\n",
        "def load_data(base_paths):\n",
        "    classes = ['normal', 'inner_fault', 'outer_fault', 'roller_fault']\n",
        "    data = []\n",
        "    labels = []\n",
        "    for base_path in base_paths:\n",
        "        for label, class_name in enumerate(classes):\n",
        "            folder_path = os.path.join(base_path, class_name)\n",
        "            if not os.path.exists(folder_path):\n",
        "                continue  # 폴더가 없으면 넘어감\n",
        "            for file_name in os.listdir(folder_path):\n",
        "                file_path = os.path.join(folder_path, file_name)\n",
        "                if not file_path.endswith('.mat'):\n",
        "                    continue  # .mat 파일이 아니면 넘어감\n",
        "                mat_data = scipy.io.loadmat(file_path)\n",
        "                signal = mat_data['signal'].flatten()  # 1차원 배열로 변환\n",
        "\n",
        "                # 신호를 세그먼트로 분할 (각 세그먼트 길이: 1024 샘플)\n",
        "                segment_length = 1024\n",
        "                num_segments = len(signal) // segment_length\n",
        "                for i in range(num_segments):\n",
        "                    segment = signal[i * segment_length : (i + 1) * segment_length]\n",
        "                    data.append(segment)\n",
        "                    labels.append(label)\n",
        "\n",
        "    # Numpy 배열로 변환\n",
        "    data = np.array(data)\n",
        "    labels = np.array(labels)\n",
        "    return data, labels\n",
        "\n",
        "# 테스트 데이터 로드\n",
        "X_test, y_test = load_data(test_base_paths)\n",
        "\n",
        "# 데이터 정규화 (훈련 데이터 전처리와 동일하게)\n",
        "X_test = X_test / np.max(np.abs(X_test))\n",
        "\n",
        "# 레이블 원-핫 인코딩\n",
        "y_test = to_categorical(y_test, num_classes=4)\n",
        "\n",
        "# 입력 데이터 형태 변경 (모델 입력에 맞게 reshaping)\n",
        "X_test = X_test.reshape(-1, 1024, 1)"
      ],
      "metadata": {
        "id": "ZMvxkyZ51oQF"
      },
      "execution_count": 30,
      "outputs": []
    },
    {
      "cell_type": "code",
      "source": [
        "# 3. 모델 평가 (손실 및 정확도)\n",
        "test_loss, test_accuracy = model.evaluate(X_test, y_test, verbose=2)\n",
        "print(f\"Test Loss: {test_loss:.4f}\")\n",
        "print(f\"Test Accuracy: {test_accuracy:.4f}\")"
      ],
      "metadata": {
        "colab": {
          "base_uri": "https://localhost:8080/"
        },
        "id": "VptUXycH1oSi",
        "outputId": "053d53ee-ab6e-44c8-a682-72a3cab3ace6"
      },
      "execution_count": 31,
      "outputs": [
        {
          "output_type": "stream",
          "name": "stdout",
          "text": [
            "968/968 - 13s - 14ms/step - accuracy: 0.9354 - loss: 0.5673\n",
            "Test Loss: 0.5673\n",
            "Test Accuracy: 0.9354\n"
          ]
        }
      ]
    },
    {
      "cell_type": "code",
      "source": [
        "# 4. 예측 및 성능 평가\n",
        "y_pred = model.predict(X_test)\n",
        "y_pred_classes = np.argmax(y_pred, axis=1)  # 예측한 클래스\n",
        "y_true = np.argmax(y_test, axis=1)          # 실제 클래스"
      ],
      "metadata": {
        "colab": {
          "base_uri": "https://localhost:8080/"
        },
        "id": "4taIkwoH1wfb",
        "outputId": "ca8bd124-9ee2-4ac0-b6ff-751cb9684a86"
      },
      "execution_count": 32,
      "outputs": [
        {
          "output_type": "stream",
          "name": "stdout",
          "text": [
            "\u001b[1m968/968\u001b[0m \u001b[32m━━━━━━━━━━━━━━━━━━━━\u001b[0m\u001b[37m\u001b[0m \u001b[1m13s\u001b[0m 14ms/step\n"
          ]
        }
      ]
    },
    {
      "cell_type": "code",
      "source": [
        "# 혼동 행렬 계산 및 시각화\n",
        "conf_matrix = confusion_matrix(y_true, y_pred_classes)\n",
        "\n",
        "plt.figure(figsize=(8, 6))\n",
        "sns.heatmap(conf_matrix, annot=True, fmt=\"d\", cmap=\"Blues\",\n",
        "            xticklabels=['Normal', 'Inner Fault', 'Outer Fault', 'Roller Fault'],\n",
        "            yticklabels=['Normal', 'Inner Fault', 'Outer Fault', 'Roller Fault'])\n",
        "plt.xlabel(\"Predicted Labels\")\n",
        "plt.ylabel(\"True Labels\")\n",
        "plt.title(\"Confusion Matrix\")\n",
        "plt.show()"
      ],
      "metadata": {
        "colab": {
          "base_uri": "https://localhost:8080/",
          "height": 564
        },
        "id": "qB468ZCL1wia",
        "outputId": "8a0aa92d-be5a-4021-e8fc-f660bad8c332"
      },
      "execution_count": 33,
      "outputs": [
        {
          "output_type": "display_data",
          "data": {
            "text/plain": [
              "<Figure size 800x600 with 2 Axes>"
            ],
            "image/png": "[encoded data removed]"
          },
          "metadata": {}
        }
      ]
    },
    {
      "cell_type": "code",
      "source": [
        "# 분류 보고서 출력\n",
        "print(classification_report(y_true, y_pred_classes, target_names=['Normal', 'Inner Fault', 'Outer Fault', 'Roller Fault']))"
      ],
      "metadata": {
        "colab": {
          "base_uri": "https://localhost:8080/"
        },
        "id": "F49tMan61wlC",
        "outputId": "7dd7ad86-baf1-445d-ce37-d2cac14d45a0"
      },
      "execution_count": 34,
      "outputs": [
        {
          "output_type": "stream",
          "name": "stdout",
          "text": [
            "              precision    recall  f1-score   support\n",
            "\n",
            "      Normal       1.00      0.99      0.99      7725\n",
            " Inner Fault       0.95      1.00      0.98      7750\n",
            " Outer Fault       0.98      0.82      0.89      7725\n",
            "Roller Fault       0.83      0.94      0.88      7775\n",
            "\n",
            "    accuracy                           0.94     30975\n",
            "   macro avg       0.94      0.94      0.94     30975\n",
            "weighted avg       0.94      0.94      0.94     30975\n",
            "\n"
          ]
        }
      ]
    },
    {
      "cell_type": "code",
      "source": [
        "# F1 스코어 계산 및 출력\n",
        "f1_macro = f1_score(y_true, y_pred_classes, average='macro')\n",
        "f1_weighted = f1_score(y_true, y_pred_classes, average='weighted')\n",
        "print(f\"Macro F1 Score: {f1_macro:.4f}\")\n",
        "print(f\"Weighted F1 Score: {f1_weighted:.4f}\")"
      ],
      "metadata": {
        "colab": {
          "base_uri": "https://localhost:8080/"
        },
        "id": "QR6sL4Kn1oVD",
        "outputId": "0b9c9515-1e6b-492e-f594-d3ce9d3e75a5"
      },
      "execution_count": 35,
      "outputs": [
        {
          "output_type": "stream",
          "name": "stdout",
          "text": [
            "Macro F1 Score: 0.9354\n",
            "Weighted F1 Score: 0.9353\n"
          ]
        }
      ]
    }
  ]
}