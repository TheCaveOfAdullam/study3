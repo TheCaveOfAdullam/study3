{
  "nbformat": 4,
  "nbformat_minor": 0,
  "metadata": {
    "colab": {
      "provenance": [],
      "machine_shape": "hm",
      "gpuType": "V28",
      "authorship_tag": "ABX9TyOYz2SvxCkZx7O1YNOxHaf9",
      "include_colab_link": true
    },
    "kernelspec": {
      "name": "python3",
      "display_name": "Python 3"
    },
    "language_info": {
      "name": "python"
    },
    "accelerator": "TPU"
  },
  "cells": [
    {
      "cell_type": "markdown",
      "metadata": {
        "id": "view-in-github",
        "colab_type": "text"
      },
      "source": [
        "<a href=\"https://colab.research.google.com/github/TheCaveOfAdullam/study3/blob/main/dataIncodingTest1.ipynb\" target=\"_parent\"><img src=\"https://colab.research.google.com/assets/colab-badge.svg\" alt=\"Open In Colab\"/></a>"
      ]
    },
    {
      "cell_type": "code",
      "source": [
        "from google.colab import drive\n",
        "drive.mount('/content/drive')"
      ],
      "metadata": {
        "colab": {
          "base_uri": "https://localhost:8080/"
        },
        "id": "7AU3CxvDPbmA",
        "outputId": "a0dfb3f7-0a1c-4049-f725-b4e755951502"
      },
      "execution_count": 1,
      "outputs": [
        {
          "output_type": "stream",
          "name": "stdout",
          "text": [
            "Drive already mounted at /content/drive; to attempt to forcibly remount, call drive.mount(\"/content/drive\", force_remount=True).\n"
          ]
        }
      ]
    },
    {
      "cell_type": "code",
      "source": [
        "import os\n",
        "import numpy as np\n",
        "import pandas as pd\n",
        "import tensorflow as tf\n",
        "from tensorflow.keras import layers, models\n",
        "from sklearn.preprocessing import LabelEncoder\n",
        "from sklearn.metrics import classification_report, confusion_matrix, f1_score, precision_score, recall_score, accuracy_score\n",
        "import matplotlib.pyplot as plt\n",
        "import seaborn as sns"
      ],
      "metadata": {
        "id": "k05NwV8_PcSW"
      },
      "execution_count": 5,
      "outputs": []
    },
    {
      "cell_type": "code",
      "execution_count": 3,
      "metadata": {
        "colab": {
          "base_uri": "https://localhost:8080/"
        },
        "id": "1yeQTX8POx52",
        "outputId": "a78d4d75-c3af-4181-9108-e8b71f903c44"
      },
      "outputs": [
        {
          "output_type": "stream",
          "name": "stdout",
          "text": [
            "Loading 3500 files from category: normal in train set\n",
            "Loading 1168 files from category: fault_BB in train set\n",
            "Loading 1168 files from category: fault_RI in train set\n",
            "Loading 1168 files from category: fault_SM in train set\n",
            "Loading 750 files from category: normal in validation set\n",
            "Loading 176 files from category: fault_BB in validation set\n",
            "Loading 176 files from category: fault_RI in validation set\n",
            "Loading 176 files from category: fault_SM in validation set\n",
            "Loading 750 files from category: normal in test set\n",
            "Loading 176 files from category: fault_BB in test set\n",
            "Loading 176 files from category: fault_RI in test set\n",
            "Loading 176 files from category: fault_SM in test set\n",
            "X_train shape: (7004, 12001, 2), y_train shape: (7004,)\n",
            "X_val shape: (1278, 12001, 2), y_val shape: (1278,)\n",
            "X_test shape: (1278, 12001, 2), y_test shape: (1278,)\n",
            "Class distribution in y_train: {'fault_BB': 1168, 'fault_RI': 1168, 'fault_SM': 1168, 'normal': 3500}\n",
            "Class distribution in y_val: {'fault_BB': 176, 'fault_RI': 176, 'fault_SM': 176, 'normal': 750}\n",
            "Class distribution in y_test: {'fault_BB': 176, 'fault_RI': 176, 'fault_SM': 176, 'normal': 750}\n",
            "Classes found by LabelEncoder: ['fault_BB' 'fault_RI' 'fault_SM' 'normal']\n"
          ]
        }
      ],
      "source": [
        "# 기본 경로 설정\n",
        "base_dir = '/content/drive/MyDrive/ship_data'\n",
        "categories = ['normal', 'fault_BB', 'fault_RI', 'fault_SM']\n",
        "\n",
        "# 데이터 로드 및 전처리 함수 정의\n",
        "def load_data(base_dir, split):\n",
        "    X = []\n",
        "    y = []\n",
        "    split_dir = os.path.join(base_dir, split)\n",
        "    for category in categories:\n",
        "        category_dir = os.path.join(split_dir, category)\n",
        "        files = os.listdir(category_dir)\n",
        "        print(f'Loading {len(files)} files from category: {category} in {split} set')  # 각 카테고리에서 로드한 파일 수 출력\n",
        "        for file in files:\n",
        "            file_path = os.path.join(category_dir, file)\n",
        "            data = pd.read_csv(file_path, header=None).values\n",
        "            data = pd.to_numeric(data.flatten(), errors='coerce').reshape(-1, data.shape[1])\n",
        "            data = np.nan_to_num(data).astype('float32')  # NaN 값을 0으로 대체하고, float32로 변환\n",
        "            X.append(data)\n",
        "            y.append(category)\n",
        "    return np.array(X), np.array(y)\n",
        "\n",
        "# 데이터 로드\n",
        "X_train, y_train = load_data(base_dir, 'train')\n",
        "X_val, y_val = load_data(base_dir, 'validation')\n",
        "X_test, y_test = load_data(base_dir, 'test')\n",
        "\n",
        "# 각 데이터셋의 크기 확인\n",
        "print(f'X_train shape: {X_train.shape}, y_train shape: {y_train.shape}')\n",
        "print(f'X_val shape: {X_val.shape}, y_val shape: {y_val.shape}')\n",
        "print(f'X_test shape: {X_test.shape}, y_test shape: {y_test.shape}')\n",
        "\n",
        "# 각 데이터셋의 클래스별 데이터 수 확인\n",
        "def print_class_distribution(y, dataset_name):\n",
        "    unique, counts = np.unique(y, return_counts=True)\n",
        "    print(f'Class distribution in {dataset_name}: {dict(zip(unique, counts))}')\n",
        "\n",
        "print_class_distribution(y_train, 'y_train')\n",
        "print_class_distribution(y_val, 'y_val')\n",
        "print_class_distribution(y_test, 'y_test')\n",
        "\n",
        "# 데이터 차원 변경 (CNN 입력 형식에 맞게)\n",
        "X_train = np.expand_dims(X_train, axis=-1)\n",
        "X_val = np.expand_dims(X_val, axis=-1)\n",
        "X_test = np.expand_dims(X_test, axis=-1)\n",
        "\n",
        "# 레이블 인코딩\n",
        "label_encoder = LabelEncoder()\n",
        "y_train_encoded = label_encoder.fit_transform(y_train)\n",
        "y_val_encoded = label_encoder.transform(y_val)\n",
        "y_test_encoded = label_encoder.transform(y_test)\n",
        "\n",
        "# 인코딩된 클래스 확인\n",
        "print(f'Classes found by LabelEncoder: {label_encoder.classes_}')\n",
        "\n",
        "# 원-핫 인코딩\n",
        "y_train_categorical = tf.keras.utils.to_categorical(y_train_encoded)\n",
        "y_val_categorical = tf.keras.utils.to_categorical(y_val_encoded)\n",
        "y_test_categorical = tf.keras.utils.to_categorical(y_test_encoded)"
      ]
    },
    {
      "cell_type": "code",
      "source": [
        "# 모델 정의\n",
        "model = models.Sequential([\n",
        "    layers.Conv1D(filters=64, kernel_size=16, strides=16, activation='relu', input_shape=(X_train.shape[1], X_train.shape[2])),\n",
        "    layers.MaxPooling1D(pool_size=2, strides=2),\n",
        "    layers.Conv1D(filters=32, kernel_size=3, strides=1, activation='relu'),\n",
        "    layers.Conv1D(filters=64, kernel_size=5, strides=1, activation='relu'),\n",
        "    layers.Conv1D(filters=128, kernel_size=5, strides=1, activation='relu'),\n",
        "    layers.MaxPooling1D(pool_size=2, strides=2),\n",
        "    layers.Flatten(),\n",
        "    layers.Dense(units=5000, activation='relu'),\n",
        "    layers.Dense(units=1000, activation='relu'),\n",
        "    layers.Dense(len(categories), activation='softmax')\n",
        "])\n",
        "\n",
        "# 모델 컴파일\n",
        "model.compile(optimizer=tf.keras.optimizers.Adam(learning_rate=0.0001), loss='categorical_crossentropy', metrics=['accuracy'])"
      ],
      "metadata": {
        "id": "_NEoiaT9V8ij"
      },
      "execution_count": 6,
      "outputs": []
    },
    {
      "cell_type": "code",
      "source": [
        "# 모델 훈련\n",
        "history = model.fit(X_train, y_train_categorical, epochs=2, validation_data=(X_val, y_val_categorical), batch_size=32)"
      ],
      "metadata": {
        "colab": {
          "base_uri": "https://localhost:8080/"
        },
        "id": "pVxCuRHiV9Sd",
        "outputId": "42c9b1ee-0bf3-4d30-8206-caed09078d04"
      },
      "execution_count": 7,
      "outputs": [
        {
          "output_type": "stream",
          "name": "stdout",
          "text": [
            "Epoch 1/2\n",
            "219/219 [==============================] - 111s 499ms/step - loss: 1.2111 - accuracy: 0.5154 - val_loss: 0.6956 - val_accuracy: 0.7246\n",
            "Epoch 2/2\n",
            "219/219 [==============================] - 111s 505ms/step - loss: 0.3462 - accuracy: 0.8629 - val_loss: 0.1141 - val_accuracy: 0.9679\n"
          ]
        }
      ]
    },
    {
      "cell_type": "code",
      "source": [
        "# 모델 평가\n",
        "test_loss, test_accuracy = model.evaluate(X_test, y_test_categorical)\n",
        "print(f'Test accuracy: {test_accuracy}')"
      ],
      "metadata": {
        "colab": {
          "base_uri": "https://localhost:8080/"
        },
        "id": "2Zy9Ya0oWCkM",
        "outputId": "0d5e045b-46a8-4f27-afb3-c0c9114993b1"
      },
      "execution_count": 8,
      "outputs": [
        {
          "output_type": "stream",
          "name": "stdout",
          "text": [
            "40/40 [==============================] - 2s 44ms/step - loss: 0.1314 - accuracy: 0.9523\n",
            "Test accuracy: 0.9522691965103149\n"
          ]
        }
      ]
    },
    {
      "cell_type": "code",
      "source": [
        "# 혼동행렬 및 평가 지표 계산\n",
        "y_pred = np.argmax(model.predict(X_test), axis=1)\n",
        "y_true = y_test_encoded\n",
        "\n",
        "conf_matrix = confusion_matrix(y_true, y_pred)\n",
        "print(\"Confusion Matrix:\")\n",
        "print(conf_matrix)\n",
        "\n",
        "print(\"\\nClassification Report:\")\n",
        "print(classification_report(y_true, y_pred, target_names=categories))"
      ],
      "metadata": {
        "colab": {
          "base_uri": "https://localhost:8080/"
        },
        "id": "NZUYyrZXWEoU",
        "outputId": "00d13eb3-3acd-4d7c-8d3c-b8fba59339c7"
      },
      "execution_count": 9,
      "outputs": [
        {
          "output_type": "stream",
          "name": "stdout",
          "text": [
            "40/40 [==============================] - 2s 40ms/step\n",
            "Confusion Matrix:\n",
            "[[135   0   1  40]\n",
            " [  0 176   0   0]\n",
            " [ 20   0 156   0]\n",
            " [  0   0   0 750]]\n",
            "\n",
            "Classification Report:\n",
            "              precision    recall  f1-score   support\n",
            "\n",
            "      normal       0.87      0.77      0.82       176\n",
            "    fault_BB       1.00      1.00      1.00       176\n",
            "    fault_RI       0.99      0.89      0.94       176\n",
            "    fault_SM       0.95      1.00      0.97       750\n",
            "\n",
            "    accuracy                           0.95      1278\n",
            "   macro avg       0.95      0.91      0.93      1278\n",
            "weighted avg       0.95      0.95      0.95      1278\n",
            "\n"
          ]
        }
      ]
    },
    {
      "cell_type": "code",
      "source": [
        "# F1 스코어, Precision, Recall 계산\n",
        "f1 = f1_score(y_true, y_pred, average='weighted')\n",
        "precision = precision_score(y_true, y_pred, average='weighted')\n",
        "recall = recall_score(y_true, y_pred, average='weighted')\n",
        "\n",
        "print(f\"Weighted F1-score: {f1:.4f}\")\n",
        "print(f\"Weighted Precision: {precision:.4f}\")\n",
        "print(f\"Weighted Recall: {recall:.4f}\")"
      ],
      "metadata": {
        "colab": {
          "base_uri": "https://localhost:8080/"
        },
        "id": "j7GBGCtDWGmU",
        "outputId": "6806a3f7-1f63-4b45-e08a-5adca5510307"
      },
      "execution_count": 10,
      "outputs": [
        {
          "output_type": "stream",
          "name": "stdout",
          "text": [
            "Weighted F1-score: 0.9507\n",
            "Weighted Precision: 0.9516\n",
            "Weighted Recall: 0.9523\n"
          ]
        }
      ]
    },
    {
      "cell_type": "code",
      "source": [
        "# 혼동행렬 시각화\n",
        "plt.figure(figsize=(10, 7))\n",
        "sns.heatmap(conf_matrix, annot=True, fmt='d', cmap='Blues', xticklabels=categories, yticklabels=categories)\n",
        "plt.xlabel('Predicted')\n",
        "plt.ylabel('True')\n",
        "plt.title('Confusion Matrix')\n",
        "plt.show()"
      ],
      "metadata": {
        "colab": {
          "base_uri": "https://localhost:8080/",
          "height": 641
        },
        "id": "clKFmvOaWIAb",
        "outputId": "c2112918-5b1e-454b-daf3-ae1ed92a501e"
      },
      "execution_count": 11,
      "outputs": [
        {
          "output_type": "display_data",
          "data": {
            "text/plain": [
              "<Figure size 1000x700 with 2 Axes>"
            ],
            "image/png": "[encoded data removed]"
          },
          "metadata": {}
        }
      ]
    },
    {
      "cell_type": "code",
      "source": [
        "# 평가 전에 테스트 데이터셋의 클래스 분포를 출력합니다.\n",
        "unique_test, counts_test = np.unique(y_test_encoded, return_counts=True)\n",
        "print(f\"Class distribution in original y_test: {dict(zip(unique_test, counts_test))}\")\n",
        "\n",
        "# 모델이 예측한 결과의 클래스 분포를 확인합니다.\n",
        "unique_pred, counts_pred = np.unique(y_pred, return_counts=True)\n",
        "print(f\"Class distribution in predicted y_pred: {dict(zip(unique_pred, counts_pred))}\")\n",
        "\n",
        "# 모델의 예측과 실제 레이블을 비교하여 어디에서 문제가 발생했는지 확인합니다.\n",
        "for true_label, pred_label in zip(y_true, y_pred):\n",
        "    if true_label != pred_label:\n",
        "        print(f\"True: {true_label}, Predicted: {pred_label}\")"
      ],
      "metadata": {
        "colab": {
          "base_uri": "https://localhost:8080/"
        },
        "id": "Ys5kflHycqd7",
        "outputId": "66dfe51e-447d-47bf-80ce-f6e522144f8c"
      },
      "execution_count": 12,
      "outputs": [
        {
          "output_type": "stream",
          "name": "stdout",
          "text": [
            "Class distribution in original y_test: {0: 176, 1: 176, 2: 176, 3: 750}\n",
            "Class distribution in predicted y_pred: {0: 155, 1: 176, 2: 157, 3: 790}\n",
            "True: 0, Predicted: 3\n",
            "True: 0, Predicted: 3\n",
            "True: 0, Predicted: 3\n",
            "True: 0, Predicted: 3\n",
            "True: 0, Predicted: 2\n",
            "True: 0, Predicted: 3\n",
            "True: 0, Predicted: 3\n",
            "True: 0, Predicted: 3\n",
            "True: 0, Predicted: 3\n",
            "True: 0, Predicted: 3\n",
            "True: 0, Predicted: 3\n",
            "True: 0, Predicted: 3\n",
            "True: 0, Predicted: 3\n",
            "True: 0, Predicted: 3\n",
            "True: 0, Predicted: 3\n",
            "True: 0, Predicted: 3\n",
            "True: 0, Predicted: 3\n",
            "True: 0, Predicted: 3\n",
            "True: 0, Predicted: 3\n",
            "True: 0, Predicted: 3\n",
            "True: 0, Predicted: 3\n",
            "True: 0, Predicted: 3\n",
            "True: 0, Predicted: 3\n",
            "True: 0, Predicted: 3\n",
            "True: 0, Predicted: 3\n",
            "True: 0, Predicted: 3\n",
            "True: 0, Predicted: 3\n",
            "True: 0, Predicted: 3\n",
            "True: 0, Predicted: 3\n",
            "True: 0, Predicted: 3\n",
            "True: 0, Predicted: 3\n",
            "True: 0, Predicted: 3\n",
            "True: 0, Predicted: 3\n",
            "True: 0, Predicted: 3\n",
            "True: 0, Predicted: 3\n",
            "True: 0, Predicted: 3\n",
            "True: 0, Predicted: 3\n",
            "True: 0, Predicted: 3\n",
            "True: 0, Predicted: 3\n",
            "True: 0, Predicted: 3\n",
            "True: 0, Predicted: 3\n",
            "True: 2, Predicted: 0\n",
            "True: 2, Predicted: 0\n",
            "True: 2, Predicted: 0\n",
            "True: 2, Predicted: 0\n",
            "True: 2, Predicted: 0\n",
            "True: 2, Predicted: 0\n",
            "True: 2, Predicted: 0\n",
            "True: 2, Predicted: 0\n",
            "True: 2, Predicted: 0\n",
            "True: 2, Predicted: 0\n",
            "True: 2, Predicted: 0\n",
            "True: 2, Predicted: 0\n",
            "True: 2, Predicted: 0\n",
            "True: 2, Predicted: 0\n",
            "True: 2, Predicted: 0\n",
            "True: 2, Predicted: 0\n",
            "True: 2, Predicted: 0\n",
            "True: 2, Predicted: 0\n",
            "True: 2, Predicted: 0\n",
            "True: 2, Predicted: 0\n"
          ]
        }
      ]
    },
    {
      "cell_type": "code",
      "source": [
        "# LabelEncoder가 각 클래스 이름을 어떻게 숫자로 변환했는지 확인\n",
        "class_mapping = {index: label for index, label in enumerate(label_encoder.classes_)}\n",
        "print(class_mapping)"
      ],
      "metadata": {
        "colab": {
          "base_uri": "https://localhost:8080/"
        },
        "id": "Mbw_py8Ldar-",
        "outputId": "0fc9e629-4437-44f7-fdd2-0fdc51c8bee7"
      },
      "execution_count": 13,
      "outputs": [
        {
          "output_type": "stream",
          "name": "stdout",
          "text": [
            "{0: 'fault_BB', 1: 'fault_RI', 2: 'fault_SM', 3: 'normal'}\n"
          ]
        }
      ]
    },
    {
      "cell_type": "code",
      "source": [
        "from sklearn.metrics import confusion_matrix\n",
        "\n",
        "# 예측값과 실제값을 다시 확인\n",
        "print(f\"True labels: {y_true}\")\n",
        "print(f\"Predicted labels: {y_pred}\")\n",
        "\n",
        "# 혼동 행렬 재생성\n",
        "conf_matrix = confusion_matrix(y_true, y_pred)\n",
        "print(\"Confusion Matrix:\")\n",
        "print(conf_matrix)"
      ],
      "metadata": {
        "colab": {
          "base_uri": "https://localhost:8080/"
        },
        "id": "R4EDshxdd6cS",
        "outputId": "820dd035-747a-4595-b88f-e62f7c191d88"
      },
      "execution_count": 14,
      "outputs": [
        {
          "output_type": "stream",
          "name": "stdout",
          "text": [
            "True labels: [3 3 3 ... 2 2 2]\n",
            "Predicted labels: [3 3 3 ... 2 2 2]\n",
            "Confusion Matrix:\n",
            "[[135   0   1  40]\n",
            " [  0 176   0   0]\n",
            " [ 20   0 156   0]\n",
            " [  0   0   0 750]]\n"
          ]
        }
      ]
    },
    {
      "cell_type": "code",
      "source": [
        "import matplotlib.pyplot as plt\n",
        "import seaborn as sns\n",
        "\n",
        "plt.figure(figsize=(10, 7))\n",
        "sns.heatmap(conf_matrix, annot=True, fmt='d', cmap='Blues', xticklabels=label_encoder.classes_, yticklabels=label_encoder.classes_)\n",
        "plt.xlabel('Predicted')\n",
        "plt.ylabel('True')\n",
        "plt.title('Confusion Matrix')\n",
        "plt.show()"
      ],
      "metadata": {
        "colab": {
          "base_uri": "https://localhost:8080/",
          "height": 641
        },
        "id": "K62ELpnxd92j",
        "outputId": "bc26cbed-cb5b-4e35-8a9a-5e5468ce38e1"
      },
      "execution_count": 15,
      "outputs": [
        {
          "output_type": "display_data",
          "data": {
            "text/plain": [
              "<Figure size 1000x700 with 2 Axes>"
            ],
            "image/png": "[encoded data removed]"
          },
          "metadata": {}
        }
      ]
    },
    {
      "cell_type": "code",
      "source": [
        "# 평가 전에 테스트 데이터셋의 클래스 분포를 출력합니다.\n",
        "unique_test, counts_test = np.unique(y_test_encoded, return_counts=True)\n",
        "print(f\"Class distribution in original y_test: {dict(zip(unique_test, counts_test))}\")\n",
        "\n",
        "# 모델이 예측한 결과의 클래스 분포를 확인합니다.\n",
        "unique_pred, counts_pred = np.unique(y_pred, return_counts=True)\n",
        "print(f\"Class distribution in predicted y_pred: {dict(zip(unique_pred, counts_pred))}\")\n",
        "\n",
        "# 모델의 예측과 실제 레이블을 비교하여 어디에서 문제가 발생했는지 확인합니다.\n",
        "for true_label, pred_label in zip(y_true, y_pred):\n",
        "    if true_label != pred_label:\n",
        "        print(f\"True: {true_label}, Predicted: {pred_label}\")"
      ],
      "metadata": {
        "colab": {
          "base_uri": "https://localhost:8080/"
        },
        "id": "htXHlUFfeueb",
        "outputId": "d9c57ae3-88a4-49b5-a74a-5f0a5e498122"
      },
      "execution_count": 18,
      "outputs": [
        {
          "output_type": "stream",
          "name": "stdout",
          "text": [
            "Class distribution in original y_test: {0: 176, 1: 176, 2: 176, 3: 750}\n",
            "Class distribution in predicted y_pred: {0: 155, 1: 176, 2: 157, 3: 790}\n",
            "True: 0, Predicted: 3\n",
            "True: 0, Predicted: 3\n",
            "True: 0, Predicted: 3\n",
            "True: 0, Predicted: 3\n",
            "True: 0, Predicted: 2\n",
            "True: 0, Predicted: 3\n",
            "True: 0, Predicted: 3\n",
            "True: 0, Predicted: 3\n",
            "True: 0, Predicted: 3\n",
            "True: 0, Predicted: 3\n",
            "True: 0, Predicted: 3\n",
            "True: 0, Predicted: 3\n",
            "True: 0, Predicted: 3\n",
            "True: 0, Predicted: 3\n",
            "True: 0, Predicted: 3\n",
            "True: 0, Predicted: 3\n",
            "True: 0, Predicted: 3\n",
            "True: 0, Predicted: 3\n",
            "True: 0, Predicted: 3\n",
            "True: 0, Predicted: 3\n",
            "True: 0, Predicted: 3\n",
            "True: 0, Predicted: 3\n",
            "True: 0, Predicted: 3\n",
            "True: 0, Predicted: 3\n",
            "True: 0, Predicted: 3\n",
            "True: 0, Predicted: 3\n",
            "True: 0, Predicted: 3\n",
            "True: 0, Predicted: 3\n",
            "True: 0, Predicted: 3\n",
            "True: 0, Predicted: 3\n",
            "True: 0, Predicted: 3\n",
            "True: 0, Predicted: 3\n",
            "True: 0, Predicted: 3\n",
            "True: 0, Predicted: 3\n",
            "True: 0, Predicted: 3\n",
            "True: 0, Predicted: 3\n",
            "True: 0, Predicted: 3\n",
            "True: 0, Predicted: 3\n",
            "True: 0, Predicted: 3\n",
            "True: 0, Predicted: 3\n",
            "True: 0, Predicted: 3\n",
            "True: 2, Predicted: 0\n",
            "True: 2, Predicted: 0\n",
            "True: 2, Predicted: 0\n",
            "True: 2, Predicted: 0\n",
            "True: 2, Predicted: 0\n",
            "True: 2, Predicted: 0\n",
            "True: 2, Predicted: 0\n",
            "True: 2, Predicted: 0\n",
            "True: 2, Predicted: 0\n",
            "True: 2, Predicted: 0\n",
            "True: 2, Predicted: 0\n",
            "True: 2, Predicted: 0\n",
            "True: 2, Predicted: 0\n",
            "True: 2, Predicted: 0\n",
            "True: 2, Predicted: 0\n",
            "True: 2, Predicted: 0\n",
            "True: 2, Predicted: 0\n",
            "True: 2, Predicted: 0\n",
            "True: 2, Predicted: 0\n",
            "True: 2, Predicted: 0\n"
          ]
        }
      ]
    },
    {
      "cell_type": "code",
      "source": [
        "y_pred = np.argmax(model.predict(X_test), axis=1)\n",
        "\n",
        "# 혼동 행렬 생성\n",
        "conf_matrix = confusion_matrix(y_true=y_test_encoded, y_pred=y_pred)\n",
        "print(conf_matrix)"
      ],
      "metadata": {
        "colab": {
          "base_uri": "https://localhost:8080/"
        },
        "id": "-s5Gs21kgrPB",
        "outputId": "9dc059ec-0fae-4603-9880-6e1a8e408d80"
      },
      "execution_count": 20,
      "outputs": [
        {
          "output_type": "stream",
          "name": "stdout",
          "text": [
            "40/40 [==============================] - 2s 40ms/step\n",
            "[[135   0   1  40]\n",
            " [  0 176   0   0]\n",
            " [ 20   0 156   0]\n",
            " [  0   0   0 750]]\n"
          ]
        }
      ]
    }
  ]
}