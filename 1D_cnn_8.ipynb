{
  "nbformat": 4,
  "nbformat_minor": 0,
  "metadata": {
    "colab": {
      "provenance": [],
      "machine_shape": "hm",
      "gpuType": "V28",
      "authorship_tag": "ABX9TyPFmvKERX8by+chSfypSkv0",
      "include_colab_link": true
    },
    "kernelspec": {
      "name": "python3",
      "display_name": "Python 3"
    },
    "language_info": {
      "name": "python"
    },
    "accelerator": "TPU"
  },
  "cells": [
    {
      "cell_type": "markdown",
      "metadata": {
        "id": "view-in-github",
        "colab_type": "text"
      },
      "source": [
        "<a href=\"https://colab.research.google.com/github/TheCaveOfAdullam/study3/blob/main/1D_cnn_8.ipynb\" target=\"_parent\"><img src=\"https://colab.research.google.com/assets/colab-badge.svg\" alt=\"Open In Colab\"/></a>"
      ]
    },
    {
      "cell_type": "code",
      "execution_count": 1,
      "metadata": {
        "colab": {
          "base_uri": "https://localhost:8080/"
        },
        "id": "vX9rfD2oxk2g",
        "outputId": "97c6d873-8984-43e4-d043-02c132ae55f8"
      },
      "outputs": [
        {
          "output_type": "stream",
          "name": "stdout",
          "text": [
            "Mounted at /content/drive\n"
          ]
        }
      ],
      "source": [
        "from google.colab import drive\n",
        "drive.mount('/content/drive')"
      ]
    },
    {
      "cell_type": "code",
      "source": [
        "import os\n",
        "import numpy as np\n",
        "import pandas as pd\n",
        "import tensorflow as tf\n",
        "from sklearn.preprocessing import LabelEncoder\n",
        "from tensorflow.keras.utils import to_categorical"
      ],
      "metadata": {
        "id": "VvcA9bzoxqUk"
      },
      "execution_count": 2,
      "outputs": []
    },
    {
      "cell_type": "code",
      "source": [
        "# 기본 경로 설정\n",
        "base_dir = '/content/drive/MyDrive/ship_data'\n",
        "categories = ['normal', 'fault_BB', 'fault_RI', 'fault_SM']\n",
        "\n",
        "# 데이터 로드 및 전처리 함수 정의\n",
        "def load_data(base_dir, split):\n",
        "    X = []\n",
        "    y = []\n",
        "    split_dir = os.path.join(base_dir, split)\n",
        "    for category in categories:\n",
        "        category_dir = os.path.join(split_dir, category)\n",
        "        for file in os.listdir(category_dir):\n",
        "            file_path = os.path.join(category_dir, file)\n",
        "            data = pd.read_csv(file_path, header=None).values\n",
        "            data = pd.to_numeric(data.flatten(), errors='coerce').reshape(-1, data.shape[1])\n",
        "            data = np.nan_to_num(data).astype('float32')  # NaN 값을 0으로 대체하고, float32로 변환\n",
        "            X.append(data)\n",
        "            y.append(category)\n",
        "    return np.array(X), np.array(y)\n",
        "\n",
        "# 데이터 로드\n",
        "X_train, y_train = load_data(base_dir, 'train')\n",
        "X_val, y_val = load_data(base_dir, 'validation')\n",
        "X_test, y_test = load_data(base_dir, 'test')\n",
        "\n",
        "# 데이터 차원 변경 (CNN 입력 형식에 맞게)\n",
        "X_train = np.expand_dims(X_train, axis=-1)\n",
        "X_val = np.expand_dims(X_val, axis=-1)\n",
        "X_test = np.expand_dims(X_test, axis=-1)\n",
        "\n",
        "# 레이블 인코딩\n",
        "label_encoder = LabelEncoder()\n",
        "y_train_encoded = label_encoder.fit_transform(y_train)\n",
        "y_val_encoded = label_encoder.transform(y_val)\n",
        "y_test_encoded = label_encoder.transform(y_test)\n",
        "\n",
        "# 원-핫 인코딩\n",
        "y_train_categorical = to_categorical(y_train_encoded)\n",
        "y_val_categorical = to_categorical(y_val_encoded)\n",
        "y_test_categorical = to_categorical(y_test_encoded)"
      ],
      "metadata": {
        "id": "tVoR4XmZxqXK"
      },
      "execution_count": 3,
      "outputs": []
    },
    {
      "cell_type": "code",
      "source": [
        "from tensorflow.keras import layers, models\n",
        "\n",
        "def create_cnn_model():\n",
        "    model = models.Sequential()\n",
        "\n",
        "    # Input layer is implicit in Keras; define input shape in first layer\n",
        "    model.add(layers.InputLayer(input_shape=(X_train.shape[1], X_train.shape[2])))\n",
        "\n",
        "    # Convolution layer 1\n",
        "    model.add(layers.Conv1D(filters=16, kernel_size=201, strides=1, activation='relu'))\n",
        "    # Pooling layer 1\n",
        "    model.add(layers.AveragePooling1D(pool_size=2, strides=1))\n",
        "\n",
        "    # Convolution layer 2\n",
        "    model.add(layers.Conv1D(filters=64, kernel_size=101, strides=1, activation='relu'))\n",
        "    # Pooling layer 2\n",
        "    model.add(layers.AveragePooling1D(pool_size=2, strides=1))\n",
        "\n",
        "    # Convolution layer 3\n",
        "    model.add(layers.Conv1D(filters=128, kernel_size=51, strides=1, activation='relu'))\n",
        "    # Pooling layer 3\n",
        "    model.add(layers.AveragePooling1D(pool_size=2, strides=1))\n",
        "\n",
        "    # Convolution layer 4\n",
        "    model.add(layers.Conv1D(filters=256, kernel_size=31, strides=1, activation='relu'))\n",
        "    # Pooling layer 4\n",
        "    model.add(layers.AveragePooling1D(pool_size=2, strides=1))\n",
        "\n",
        "    # Flatten layer\n",
        "    model.add(layers.Flatten())\n",
        "\n",
        "    # Fully connected layer\n",
        "    model.add(layers.Dense(256, activation='relu'))\n",
        "\n",
        "    # Output layer\n",
        "    model.add(layers.Dense(len(categories), activation='softmax'))\n",
        "\n",
        "    return model\n",
        "\n",
        "model = create_cnn_model()\n",
        "model.summary()"
      ],
      "metadata": {
        "colab": {
          "base_uri": "https://localhost:8080/"
        },
        "id": "t-uWuwnYxqZy",
        "outputId": "bb2b5916-c2e9-45a5-800f-d86d841b248b"
      },
      "execution_count": 4,
      "outputs": [
        {
          "output_type": "stream",
          "name": "stdout",
          "text": [
            "Model: \"sequential\"\n",
            "_________________________________________________________________\n",
            " Layer (type)                Output Shape              Param #   \n",
            "=================================================================\n",
            " conv1d (Conv1D)             (None, 11801, 16)         6448      \n",
            "                                                                 \n",
            " average_pooling1d (Average  (None, 11800, 16)         0         \n",
            " Pooling1D)                                                      \n",
            "                                                                 \n",
            " conv1d_1 (Conv1D)           (None, 11700, 64)         103488    \n",
            "                                                                 \n",
            " average_pooling1d_1 (Avera  (None, 11699, 64)         0         \n",
            " gePooling1D)                                                    \n",
            "                                                                 \n",
            " conv1d_2 (Conv1D)           (None, 11649, 128)        417920    \n",
            "                                                                 \n",
            " average_pooling1d_2 (Avera  (None, 11648, 128)        0         \n",
            " gePooling1D)                                                    \n",
            "                                                                 \n",
            " conv1d_3 (Conv1D)           (None, 11618, 256)        1016064   \n",
            "                                                                 \n",
            " average_pooling1d_3 (Avera  (None, 11617, 256)        0         \n",
            " gePooling1D)                                                    \n",
            "                                                                 \n",
            " flatten (Flatten)           (None, 2973952)           0         \n",
            "                                                                 \n",
            " dense (Dense)               (None, 256)               761331968 \n",
            "                                                                 \n",
            " dense_1 (Dense)             (None, 4)                 1028      \n",
            "                                                                 \n",
            "=================================================================\n",
            "Total params: 762876916 (2.84 GB)\n",
            "Trainable params: 762876916 (2.84 GB)\n",
            "Non-trainable params: 0 (0.00 Byte)\n",
            "_________________________________________________________________\n"
          ]
        }
      ]
    },
    {
      "cell_type": "code",
      "source": [
        "# 모델 컴파일\n",
        "model.compile(optimizer='adam', loss='categorical_crossentropy', metrics=['accuracy'])"
      ],
      "metadata": {
        "id": "nWHoOo6Yxqca"
      },
      "execution_count": 5,
      "outputs": []
    },
    {
      "cell_type": "code",
      "source": [
        "# 모델 학습\n",
        "history = model.fit(X_train, y_train_categorical,\n",
        "                    epochs=20,\n",
        "                    batch_size=32,\n",
        "                    validation_data=(X_val, y_val_categorical))"
      ],
      "metadata": {
        "colab": {
          "base_uri": "https://localhost:8080/"
        },
        "id": "YaXicZlDxqfC",
        "outputId": "159ad582-85d9-4851-cd98-0094cf67d114"
      },
      "execution_count": 6,
      "outputs": [
        {
          "output_type": "stream",
          "name": "stdout",
          "text": [
            "Epoch 1/20\n",
            "219/219 [==============================] - 1407s 6s/step - loss: 9.9766 - accuracy: 0.4750 - val_loss: 1.2262 - val_accuracy: 0.5869\n",
            "Epoch 2/20\n",
            "219/219 [==============================] - 1407s 6s/step - loss: 1.2516 - accuracy: 0.4997 - val_loss: 1.1525 - val_accuracy: 0.5869\n",
            "Epoch 3/20\n",
            "219/219 [==============================] - 1408s 6s/step - loss: 1.2429 - accuracy: 0.4997 - val_loss: 1.1448 - val_accuracy: 0.5869\n",
            "Epoch 4/20\n",
            "219/219 [==============================] - 1406s 6s/step - loss: 1.2432 - accuracy: 0.4997 - val_loss: 1.1475 - val_accuracy: 0.5869\n",
            "Epoch 5/20\n",
            "219/219 [==============================] - 1409s 6s/step - loss: 1.2431 - accuracy: 0.4997 - val_loss: 1.1458 - val_accuracy: 0.5869\n",
            "Epoch 6/20\n",
            "219/219 [==============================] - 1410s 6s/step - loss: 1.2431 - accuracy: 0.4997 - val_loss: 1.1465 - val_accuracy: 0.5869\n",
            "Epoch 7/20\n",
            "219/219 [==============================] - 1414s 6s/step - loss: 1.2430 - accuracy: 0.4997 - val_loss: 1.1490 - val_accuracy: 0.5869\n",
            "Epoch 8/20\n",
            "219/219 [==============================] - 1407s 6s/step - loss: 1.2433 - accuracy: 0.4997 - val_loss: 1.1483 - val_accuracy: 0.5869\n",
            "Epoch 9/20\n",
            "219/219 [==============================] - 1417s 6s/step - loss: 1.2432 - accuracy: 0.4997 - val_loss: 1.1508 - val_accuracy: 0.5869\n",
            "Epoch 10/20\n",
            "219/219 [==============================] - 1417s 6s/step - loss: 1.2432 - accuracy: 0.4997 - val_loss: 1.1486 - val_accuracy: 0.5869\n",
            "Epoch 11/20\n",
            "219/219 [==============================] - 1416s 6s/step - loss: 1.2430 - accuracy: 0.4997 - val_loss: 1.1446 - val_accuracy: 0.5869\n",
            "Epoch 12/20\n",
            "219/219 [==============================] - 1411s 6s/step - loss: 1.2432 - accuracy: 0.4997 - val_loss: 1.1433 - val_accuracy: 0.5869\n",
            "Epoch 13/20\n",
            "219/219 [==============================] - 1419s 6s/step - loss: 1.2432 - accuracy: 0.4997 - val_loss: 1.1471 - val_accuracy: 0.5869\n",
            "Epoch 14/20\n",
            "219/219 [==============================] - 1417s 6s/step - loss: 1.2432 - accuracy: 0.4997 - val_loss: 1.1482 - val_accuracy: 0.5869\n",
            "Epoch 15/20\n",
            "219/219 [==============================] - 1435s 7s/step - loss: 1.2431 - accuracy: 0.4997 - val_loss: 1.1472 - val_accuracy: 0.5869\n",
            "Epoch 16/20\n",
            "219/219 [==============================] - 1428s 7s/step - loss: 1.2432 - accuracy: 0.4997 - val_loss: 1.1473 - val_accuracy: 0.5869\n",
            "Epoch 17/20\n",
            "219/219 [==============================] - 1433s 7s/step - loss: 1.2432 - accuracy: 0.4997 - val_loss: 1.1448 - val_accuracy: 0.5869\n",
            "Epoch 18/20\n",
            "219/219 [==============================] - 1424s 7s/step - loss: 1.2433 - accuracy: 0.4997 - val_loss: 1.1437 - val_accuracy: 0.5869\n",
            "Epoch 19/20\n",
            "219/219 [==============================] - 1425s 7s/step - loss: 1.2431 - accuracy: 0.4997 - val_loss: 1.1478 - val_accuracy: 0.5869\n",
            "Epoch 20/20\n",
            "219/219 [==============================] - 1424s 7s/step - loss: 1.2431 - accuracy: 0.4997 - val_loss: 1.1501 - val_accuracy: 0.5869\n"
          ]
        }
      ]
    },
    {
      "cell_type": "code",
      "source": [
        "# 모델 평가\n",
        "test_loss, test_accuracy = model.evaluate(X_test, y_test_categorical)\n",
        "print(f'Test accuracy: {test_accuracy}')"
      ],
      "metadata": {
        "colab": {
          "base_uri": "https://localhost:8080/"
        },
        "id": "EDlXuWpdx1t6",
        "outputId": "e8182050-a25c-43b0-d69f-c32a4234f5d0"
      },
      "execution_count": 7,
      "outputs": [
        {
          "output_type": "stream",
          "name": "stdout",
          "text": [
            "40/40 [==============================] - 26s 655ms/step - loss: 1.1501 - accuracy: 0.5869\n",
            "Test accuracy: 0.5868544578552246\n"
          ]
        }
      ]
    },
    {
      "cell_type": "code",
      "source": [
        "# 원본 모델 저장\n",
        "model.save('model.h5')\n",
        "\n",
        "# 모델 사이즈 측정\n",
        "model_size = os.path.getsize('model.h5') / (1024 * 1024)\n",
        "print(f\"Model Size: {model_size:.2f} MB\")"
      ],
      "metadata": {
        "colab": {
          "base_uri": "https://localhost:8080/"
        },
        "id": "8LMH5o-ix1wq",
        "outputId": "c628163a-6741-4f52-d1e7-3d4b831db3a6"
      },
      "execution_count": 8,
      "outputs": [
        {
          "output_type": "stream",
          "name": "stderr",
          "text": [
            "/usr/local/lib/python3.10/dist-packages/keras/src/engine/training.py:3103: UserWarning: You are saving your model as an HDF5 file via `model.save()`. This file format is considered legacy. We recommend using instead the native Keras format, e.g. `model.save('my_model.keras')`.\n",
            "  saving_api.save_model(\n"
          ]
        },
        {
          "output_type": "stream",
          "name": "stdout",
          "text": [
            "Model Size: 8730.49 MB\n"
          ]
        }
      ]
    },
    {
      "cell_type": "code",
      "source": [],
      "metadata": {
        "id": "PhHQIBBux196"
      },
      "execution_count": 8,
      "outputs": []
    },
    {
      "cell_type": "markdown",
      "source": [
        "Motor On-Line Fault Diagnosis Method Research Based on 1D-CNN and Multi-Sensor Information"
      ],
      "metadata": {
        "id": "tmgZ_bHeyKBL"
      }
    }
  ]
}